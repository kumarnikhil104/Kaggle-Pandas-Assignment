{
  "cells": [
    {
      "metadata": {
        "_cell_guid": "ceb3b54f-4199-46e1-acce-7e5d79432f2e",
        "_uuid": "eefe260736ba6ae7070912a2cb2f0179593974dc"
      },
      "cell_type": "markdown",
      "source": "# Introduction\n\nYou've learned how to select relevant data out of our `pandas` `DataFrame` and `Series` objects. Plucking the right data out of our data representation is critical to getting work done, as we demonstrated in the visualization exercises attached to the workbook.\n\n<font color ='red'>However, the data does not always in the format we want it in right out of the bat. Sometimes we have to do some more work ourselves to reformat it for our task.<font color ='black'>\n\nThe remainder of this tutorial will cover different operations we can apply to our data to get the input \"just right\". We'll start off in this section by looking at the most commonly looked built-in reshaping operations. Along the way we'll cover data `dtypes`, a concept essential to working with `pandas` effectively.\n\n# Relevant Resources\n* **[Summary functions and maps](https://www.kaggle.com/residentmario/summary-functions-and-maps-reference)**\n* [Official pandas cheat sheet](https://github.com/pandas-dev/pandas/blob/master/doc/cheatsheet/Pandas_Cheat_Sheet.pdf)\n\n# Set Up\n**First, fork this notebook using the \"Fork Notebook\" button towards the top of the screen.**\n\nRun the code cell below to load your data and the necessary utility funcitons."
    },
    {
      "metadata": {
        "_cell_guid": "fde3f674-6fd0-41f2-bf55-b2af076c065f",
        "_uuid": "f93afaffdb6993c6fbd1a0229fdb130cf372e8a4",
        "trusted": true,
        "collapsed": true
      },
      "cell_type": "code",
      "source": "import pandas as pd\npd.set_option('max_rows', 5)\nimport numpy as np\n\nimport sys\nsys.path.append('../input/advanced-pandas-exercises/')\nfrom summary_functions_maps import *\n\nreviews = pd.read_csv(\"../input/wine-reviews/winemag-data-130k-v2.csv\", index_col=0)",
      "execution_count": 2,
      "outputs": []
    },
    {
      "metadata": {
        "_cell_guid": "6a5f3cbe-2b0a-4ef6-816f-65adb866f63c",
        "_uuid": "ffa2d47df5c3119929fee7234fdfdc53ac15071c"
      },
      "cell_type": "markdown",
      "source": "# Checking Answers\n\nYou can check your answers in each of the exercises that follow using the  `check_qN` function provided in the code cell above (replacing `N` with the number of the exercise). For example here's how you would check an incorrect answer to exercise 1:"
    },
    {
      "metadata": {
        "_cell_guid": "547ec9e3-02f9-4b09-885a-3f97fc0bedbe",
        "_uuid": "42bad74646c49cec61bf5f0014200bf37eed46f8",
        "trusted": true
      },
      "cell_type": "code",
      "source": "check_q1(20)",
      "execution_count": 3,
      "outputs": [
        {
          "output_type": "execute_result",
          "execution_count": 3,
          "data": {
            "text/plain": "False"
          },
          "metadata": {}
        }
      ]
    },
    {
      "metadata": {
        "_cell_guid": "50b1febe-4440-4c6a-8ea0-9290360d332a",
        "_uuid": "aebe052470e69f579b33bfa7c9dbfa5c1b59e31b"
      },
      "cell_type": "markdown",
      "source": "For the first set of questions, if you use `check_qN` on your answer, and your answer is right, a simple `True` value will be returned.\n\nFor the second set of questions, using this function to check a correct answer will present you will an informative graph!\n\nIf you get stuck, use the companion `answer_qN` function to print the answer."
    },
    {
      "metadata": {
        "collapsed": true,
        "_cell_guid": "3f433818-b014-4eeb-974b-54ced382eab7",
        "_uuid": "33d457c2d5e9b8003e1c16cd4506b2f68132aa1e"
      },
      "cell_type": "markdown",
      "source": "# Preview the Data\n\nRun the cell below to preview your data"
    },
    {
      "metadata": {
        "_cell_guid": "85adcd4d-ef9c-4f7c-85a2-a33be9a6aba5",
        "_uuid": "18a17a756747c46e24e3306757b2e85c4994321e",
        "trusted": true
      },
      "cell_type": "code",
      "source": "reviews.head()",
      "execution_count": 4,
      "outputs": [
        {
          "output_type": "execute_result",
          "execution_count": 4,
          "data": {
            "text/plain": "    country                                        description  \\\n0     Italy  Aromas include tropical fruit, broom, brimston...   \n1  Portugal  This is ripe and fruity, a wine that is smooth...   \n2        US  Tart and snappy, the flavors of lime flesh and...   \n3        US  Pineapple rind, lemon pith and orange blossom ...   \n4        US  Much like the regular bottling from 2012, this...   \n\n                          designation  points  price           province  \\\n0                        Vulkà Bianco      87    NaN  Sicily & Sardinia   \n1                            Avidagos      87   15.0              Douro   \n2                                 NaN      87   14.0             Oregon   \n3                Reserve Late Harvest      87   13.0           Michigan   \n4  Vintner's Reserve Wild Child Block      87   65.0             Oregon   \n\n              region_1           region_2         taster_name  \\\n0                 Etna                NaN       Kerin O’Keefe   \n1                  NaN                NaN          Roger Voss   \n2    Willamette Valley  Willamette Valley        Paul Gregutt   \n3  Lake Michigan Shore                NaN  Alexander Peartree   \n4    Willamette Valley  Willamette Valley        Paul Gregutt   \n\n  taster_twitter_handle                                              title  \\\n0          @kerinokeefe                  Nicosia 2013 Vulkà Bianco  (Etna)   \n1            @vossroger      Quinta dos Avidagos 2011 Avidagos Red (Douro)   \n2           @paulgwine       Rainstorm 2013 Pinot Gris (Willamette Valley)   \n3                   NaN  St. Julian 2013 Reserve Late Harvest Riesling ...   \n4           @paulgwine   Sweet Cheeks 2012 Vintner's Reserve Wild Child...   \n\n          variety               winery  \n0     White Blend              Nicosia  \n1  Portuguese Red  Quinta dos Avidagos  \n2      Pinot Gris            Rainstorm  \n3        Riesling           St. Julian  \n4      Pinot Noir         Sweet Cheeks  ",
            "text/html": "<div>\n<style scoped>\n    .dataframe tbody tr th:only-of-type {\n        vertical-align: middle;\n    }\n\n    .dataframe tbody tr th {\n        vertical-align: top;\n    }\n\n    .dataframe thead th {\n        text-align: right;\n    }\n</style>\n<table border=\"1\" class=\"dataframe\">\n  <thead>\n    <tr style=\"text-align: right;\">\n      <th></th>\n      <th>country</th>\n      <th>description</th>\n      <th>designation</th>\n      <th>points</th>\n      <th>price</th>\n      <th>province</th>\n      <th>region_1</th>\n      <th>region_2</th>\n      <th>taster_name</th>\n      <th>taster_twitter_handle</th>\n      <th>title</th>\n      <th>variety</th>\n      <th>winery</th>\n    </tr>\n  </thead>\n  <tbody>\n    <tr>\n      <th>0</th>\n      <td>Italy</td>\n      <td>Aromas include tropical fruit, broom, brimston...</td>\n      <td>Vulkà Bianco</td>\n      <td>87</td>\n      <td>NaN</td>\n      <td>Sicily &amp; Sardinia</td>\n      <td>Etna</td>\n      <td>NaN</td>\n      <td>Kerin O’Keefe</td>\n      <td>@kerinokeefe</td>\n      <td>Nicosia 2013 Vulkà Bianco  (Etna)</td>\n      <td>White Blend</td>\n      <td>Nicosia</td>\n    </tr>\n    <tr>\n      <th>1</th>\n      <td>Portugal</td>\n      <td>This is ripe and fruity, a wine that is smooth...</td>\n      <td>Avidagos</td>\n      <td>87</td>\n      <td>15.0</td>\n      <td>Douro</td>\n      <td>NaN</td>\n      <td>NaN</td>\n      <td>Roger Voss</td>\n      <td>@vossroger</td>\n      <td>Quinta dos Avidagos 2011 Avidagos Red (Douro)</td>\n      <td>Portuguese Red</td>\n      <td>Quinta dos Avidagos</td>\n    </tr>\n    <tr>\n      <th>2</th>\n      <td>US</td>\n      <td>Tart and snappy, the flavors of lime flesh and...</td>\n      <td>NaN</td>\n      <td>87</td>\n      <td>14.0</td>\n      <td>Oregon</td>\n      <td>Willamette Valley</td>\n      <td>Willamette Valley</td>\n      <td>Paul Gregutt</td>\n      <td>@paulgwine</td>\n      <td>Rainstorm 2013 Pinot Gris (Willamette Valley)</td>\n      <td>Pinot Gris</td>\n      <td>Rainstorm</td>\n    </tr>\n    <tr>\n      <th>3</th>\n      <td>US</td>\n      <td>Pineapple rind, lemon pith and orange blossom ...</td>\n      <td>Reserve Late Harvest</td>\n      <td>87</td>\n      <td>13.0</td>\n      <td>Michigan</td>\n      <td>Lake Michigan Shore</td>\n      <td>NaN</td>\n      <td>Alexander Peartree</td>\n      <td>NaN</td>\n      <td>St. Julian 2013 Reserve Late Harvest Riesling ...</td>\n      <td>Riesling</td>\n      <td>St. Julian</td>\n    </tr>\n    <tr>\n      <th>4</th>\n      <td>US</td>\n      <td>Much like the regular bottling from 2012, this...</td>\n      <td>Vintner's Reserve Wild Child Block</td>\n      <td>87</td>\n      <td>65.0</td>\n      <td>Oregon</td>\n      <td>Willamette Valley</td>\n      <td>Willamette Valley</td>\n      <td>Paul Gregutt</td>\n      <td>@paulgwine</td>\n      <td>Sweet Cheeks 2012 Vintner's Reserve Wild Child...</td>\n      <td>Pinot Noir</td>\n      <td>Sweet Cheeks</td>\n    </tr>\n  </tbody>\n</table>\n</div>"
          },
          "metadata": {}
        }
      ]
    },
    {
      "metadata": {
        "_cell_guid": "97d5f969-1ce2-43f5-aab2-97c617fb73a9",
        "_uuid": "a921868d97a94733892f77700c894272bfd5c215"
      },
      "cell_type": "markdown",
      "source": "# Exercises"
    },
    {
      "metadata": {
        "_cell_guid": "27108510-72e4-4b96-9a9f-91ca467ae69e",
        "_uuid": "ddf41baa215da4eac422b653716d028d86619f29"
      },
      "cell_type": "markdown",
      "source": "**Exercise 1**: What is the median of the `points` column?"
    },
    {
      "metadata": {
        "_cell_guid": "e3613fe5-7a87-467e-81c1-18dcc6976f03",
        "_uuid": "fc26d85de042b6ed824ece086f9db42f03f6fae3",
        "trusted": true
      },
      "cell_type": "code",
      "source": "# Your code here\nreviews.points.median()",
      "execution_count": 5,
      "outputs": [
        {
          "output_type": "execute_result",
          "execution_count": 5,
          "data": {
            "text/plain": "88.0"
          },
          "metadata": {}
        }
      ]
    },
    {
      "metadata": {
        "trusted": true,
        "_uuid": "5e262cc86a99dc866998c641444c0e874dda58f1"
      },
      "cell_type": "code",
      "source": "answer_q1()",
      "execution_count": 6,
      "outputs": [
        {
          "output_type": "stream",
          "text": "reviews.points.median()\n",
          "name": "stdout"
        }
      ]
    },
    {
      "metadata": {
        "_cell_guid": "5d18dd56-6cb9-4a31-994c-19cfdc67c0d9",
        "_uuid": "f91395e1752525f0d8d73700407c95e7d8ad35af"
      },
      "cell_type": "markdown",
      "source": "**Exercise 2**: What countries are represented in the dataset?"
    },
    {
      "metadata": {
        "_cell_guid": "6aa494e5-d8d8-4270-bb2b-a1756916d686",
        "_uuid": "c4bafe545bddf2f11afc8eb703ec34b86f4bc655",
        "trusted": true
      },
      "cell_type": "code",
      "source": "# Your code here\nreviews.country.unique()",
      "execution_count": 8,
      "outputs": [
        {
          "output_type": "execute_result",
          "execution_count": 8,
          "data": {
            "text/plain": "array(['Italy', 'Portugal', 'US', 'Spain', 'France', 'Germany',\n       'Argentina', 'Chile', 'Australia', 'Austria', 'South Africa',\n       'New Zealand', 'Israel', 'Hungary', 'Greece', 'Romania', 'Mexico',\n       'Canada', nan, 'Turkey', 'Czech Republic', 'Slovenia',\n       'Luxembourg', 'Croatia', 'Georgia', 'Uruguay', 'England',\n       'Lebanon', 'Serbia', 'Brazil', 'Moldova', 'Morocco', 'Peru',\n       'India', 'Bulgaria', 'Cyprus', 'Armenia', 'Switzerland',\n       'Bosnia and Herzegovina', 'Ukraine', 'Slovakia', 'Macedonia',\n       'China', 'Egypt'], dtype=object)"
          },
          "metadata": {}
        }
      ]
    },
    {
      "metadata": {
        "trusted": true,
        "_uuid": "cec76682ac56a3a25474b0f34062cce3b06db3e6"
      },
      "cell_type": "code",
      "source": "answer_q2()",
      "execution_count": 9,
      "outputs": [
        {
          "output_type": "stream",
          "text": "reviews.country.unique()\n",
          "name": "stdout"
        }
      ]
    },
    {
      "metadata": {
        "_cell_guid": "505f59af-ab2a-4648-81b1-cb5ae2c1ae74",
        "_uuid": "0b788fafed337639a804c96afab89b92fb8ec56e"
      },
      "cell_type": "markdown",
      "source": "**Exercise 3**: What countries appear in the dataset most often?"
    },
    {
      "metadata": {
        "_cell_guid": "20c7276e-7c1d-4049-b5df-67d8c5471bc4",
        "_uuid": "8127a25e990f3b53c69f227789bcd66d75706f9e",
        "trusted": true
      },
      "cell_type": "code",
      "source": "# Your code here\nreviews.country.value_counts()",
      "execution_count": 16,
      "outputs": [
        {
          "output_type": "execute_result",
          "execution_count": 16,
          "data": {
            "text/plain": "US          54504\nFrance      22093\n            ...  \nSlovakia        1\nEgypt           1\nName: country, Length: 43, dtype: int64"
          },
          "metadata": {}
        }
      ]
    },
    {
      "metadata": {
        "trusted": true,
        "_uuid": "82befaf682c0c901284af0d0a2ae51523aeb348d"
      },
      "cell_type": "code",
      "source": "answer_q3()",
      "execution_count": 17,
      "outputs": [
        {
          "output_type": "stream",
          "text": "reviews.country.value_counts()\n",
          "name": "stdout"
        }
      ]
    },
    {
      "metadata": {
        "_cell_guid": "ce551e25-c3cc-4db4-8a12-ff0aaff0df37",
        "_uuid": "a885a5e54b1fe2955098a10637eac3af9118f8b9"
      },
      "cell_type": "markdown",
      "source": "**Exercise 4**: Remap the `price` column by subtracting the median price."
    },
    {
      "metadata": {
        "_cell_guid": "89d863b0-b7f5-4e4d-bc51-a9b530f13094",
        "_uuid": "789183e1b9253856e2c9692d2021e2644bb2311f",
        "trusted": true
      },
      "cell_type": "code",
      "source": "# Your code here\nprice_remaped = reviews.price.median()\nreviews.price.map(lambda p : p - price_remaped)",
      "execution_count": 19,
      "outputs": [
        {
          "output_type": "execute_result",
          "execution_count": 19,
          "data": {
            "text/plain": "0          NaN\n1        -10.0\n          ... \n129969     7.0\n129970    -4.0\nName: price, Length: 129971, dtype: float64"
          },
          "metadata": {}
        }
      ]
    },
    {
      "metadata": {
        "trusted": true,
        "_uuid": "2b03fa1d5614e493a72442082dc936a24164c9c4"
      },
      "cell_type": "code",
      "source": "answer_q4()",
      "execution_count": 20,
      "outputs": [
        {
          "output_type": "stream",
          "text": "median_price = reviews.price.median()\nreviews.price.map(lambda v: v - median_price)\n",
          "name": "stdout"
        }
      ]
    },
    {
      "metadata": {
        "_cell_guid": "2f1a49c1-87a2-4e0e-8f90-3d0770c6935a",
        "_uuid": "4c7dccfc6e6dcc09f97c38d29e016f84c6607062"
      },
      "cell_type": "markdown",
      "source": "**Exercise 5**: I\"m an economical wine buyer. What is the name (`title`) of the \"best bargain\" wine, e.g., the one which has the highest points-to-price ratio in the dataset?\n\nHint: use a map and the [`idxmax` function](http://pandas.pydata.org/pandas-docs/version/0.19.2/generated/pandas.Series.idxmax.html)."
    },
    {
      "metadata": {
        "_cell_guid": "f995ab17-981a-4f4a-9207-708e715f66af",
        "_uuid": "f96cd34656e148282d3c8ca0ca19aaa67e3d3e4e",
        "trusted": true
      },
      "cell_type": "code",
      "source": "# Your code here\nreviews.title.loc[(reviews.points/ reviews.price).argmax()]\n\n#reviews.loc[ (reviews.points / reviews.price).argmax()].title\n#answer_q5()",
      "execution_count": 34,
      "outputs": [
        {
          "output_type": "stream",
          "text": "/opt/conda/lib/python3.6/site-packages/ipykernel_launcher.py:2: FutureWarning: 'argmax' is deprecated. Use 'idxmax' instead. The behavior of 'argmax' will be corrected to return the positional maximum in the future. Use 'series.values.argmax' to get the position of the maximum now.\n  \n/opt/conda/lib/python3.6/site-packages/ipykernel_launcher.py:3: FutureWarning: 'argmax' is deprecated. Use 'idxmax' instead. The behavior of 'argmax' will be corrected to return the positional maximum in the future. Use 'series.values.argmax' to get the position of the maximum now.\n  This is separate from the ipykernel package so we can avoid doing imports until\n",
          "name": "stderr"
        },
        {
          "output_type": "execute_result",
          "execution_count": 34,
          "data": {
            "text/plain": "'Bandit NV Merlot (California)'"
          },
          "metadata": {}
        }
      ]
    },
    {
      "metadata": {
        "_cell_guid": "433eaff6-4e2b-4304-8694-e70a11bf05df",
        "_uuid": "161b8f55577ad163e0f4406536f31f4a4847e706"
      },
      "cell_type": "markdown",
      "source": "Now it's time for some visual exercises."
    },
    {
      "metadata": {
        "_cell_guid": "ea01da04-cd01-45bf-9592-6dab2d6f991c",
        "_uuid": "cb263542035a146fe49efe78d7e1bb18ae874b22"
      },
      "cell_type": "markdown",
      "source": "**Exercise 6**: There are only so many words you can use when describing a bottle of wine.  Is a wine more likely to be \"tropical\" or \"fruity\"? Create a `Series` counting how many times each of these two words appears in the `description` column in the dataset.\n\nHint: use a map to check each description for the string `tropical`, then count up the number of times this is `True`. Repeat this for `fruity`. Create a `Series` combining the two values at the end."
    },
    {
      "metadata": {
        "_cell_guid": "d61d4ef6-2c14-4615-b3dd-0ac74744efa3",
        "_uuid": "33073f2f3e88f6f4c309efa889cb6ef9fff5a496",
        "trusted": true
      },
      "cell_type": "code",
      "source": "# Your code here\n\ntropical_wine = reviews.description.map(lambda des: \"tropical\" in des).value_counts()\nfruity_wine =   reviews.description.map(lambda des : \"fruity\" in des).value_counts()\n#creating a series using theses two 'tropical_wine' and 'fruity_wine'\npd.Series( [tropical_wine[True], fruity_wine[True]], index = ['tropical', 'fruity'])   # here we have made a Series",
      "execution_count": 37,
      "outputs": [
        {
          "output_type": "execute_result",
          "execution_count": 37,
          "data": {
            "text/plain": "tropical    3607\nfruity      9090\ndtype: int64"
          },
          "metadata": {}
        }
      ]
    },
    {
      "metadata": {
        "_cell_guid": "e64c1c0d-dd13-4945-a74b-4b64f2e65186",
        "_uuid": "20cf342b102dee91b36aecfa5d213fb9a3fee8b9"
      },
      "cell_type": "markdown",
      "source": "**Exercise 7**: What combination of countries and varieties are most common?\n\nCreate a `Series` whose index consists of strings of the form `\"<Country> - <Wine Variety>\"`. For example, a pinot noir produced in the US should map to `\"US - Pinot Noir\"`. The values should be counts of how many times the given wine appears in the dataset. Drop any reviews with incomplete `country` or `variety` data.\n\n**Note** that some of the `Country` and `Wine Variety` values are missing data. We will learn more about missing data in a future section of the tutorial. For now you may use the included code snippet to normalize these columns.\n\n**Hint:**  Use a map to create a series whose entries are a `str` concatenation of those two columns. Then, generate a `Series` counting how many times each label appears in the dataset."
    },
    {
      "metadata": {
        "_cell_guid": "8a292160-26ae-4afe-b436-f4b4d599acf3",
        "_uuid": "4483f5e89b0b6a133b8bd4698089a6033b95e303",
        "trusted": true
      },
      "cell_type": "code",
      "source": "# Your code here\nreviews.country.drop(axis=0)\nreviews.variety.drop(axis = 0)\n(reviews.country+\"-\"+reviews.variety).value_counts()\n",
      "execution_count": 42,
      "outputs": [
        {
          "output_type": "stream",
          "text": "ans = reviews.loc[(reviews.country.notnull()) & (reviews.variety.notnull())]\nans = ans.apply(lambda srs: srs.country + \" - \" + srs.variety, axis='columns')\nans.value_counts()\n",
          "name": "stdout"
        }
      ]
    },
    {
      "metadata": {
        "trusted": true,
        "collapsed": true,
        "_uuid": "1645251de6487572585a7730c837672feccd580d"
      },
      "cell_type": "code",
      "source": "#answer_q7()\nans = reviews.loc[(reviews.country.notnull()) & (reviews.variety.notnull())]\nans = ans.apply(lambda srs: srs.country + \" - \" + srs.variety, axis='columns')\nans.value_counts()",
      "execution_count": null,
      "outputs": []
    },
    {
      "metadata": {
        "_cell_guid": "6b1a6c91-56b3-4b30-a5f6-127af62fedf9",
        "_uuid": "e749c4b5877c33c7d3c42240fd47511912433d74"
      },
      "cell_type": "markdown",
      "source": "# Keep going\n**[Continue to grouping and sorting](https://www.kaggle.com/residentmario/grouping-and-sorting-workbook).**"
    }
  ],
  "metadata": {
    "language_info": {
      "name": "python",
      "version": "3.6.4",
      "mimetype": "text/x-python",
      "codemirror_mode": {
        "name": "ipython",
        "version": 3
      },
      "pygments_lexer": "ipython3",
      "nbconvert_exporter": "python",
      "file_extension": ".py"
    },
    "kernelspec": {
      "display_name": "Python 3",
      "language": "python",
      "name": "python3"
    }
  },
  "nbformat": 4,
  "nbformat_minor": 1
}