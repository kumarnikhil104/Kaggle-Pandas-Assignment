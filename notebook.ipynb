{
  "cells": [
    {
      "metadata": {
        "_uuid": "d16ed3cb6b5171b350dd538e39a8dd357385505a",
        "_cell_guid": "e876df30-1a40-455b-9599-05ccc2f64c74"
      },
      "cell_type": "markdown",
      "source": "# Indexing, selecting, assigning reference\n\nThis is the reference component to the \"Indexing, selecting, assigning\" section of the Advanced Pandas track. For the workbook component, [click here](https://www.kaggle.com/residentmario/indexing-selecting-assigning-workbook)."
    },
    {
      "metadata": {
        "_uuid": "9e10c73b1a2705e83c779a18d8ee7d588d0347df",
        "collapsed": true,
        "_cell_guid": "a09ab15a-4d94-43d8-8862-9cbcba6898f6",
        "trusted": true
      },
      "cell_type": "code",
      "source": "import pandas as pd\nreviews = pd.read_csv(\"../input/winemag-data-130k-v2.csv\", index_col=0)\npd.set_option(\"display.max_rows\", 5)",
      "execution_count": 1,
      "outputs": []
    },
    {
      "metadata": {
        "_uuid": "3dfb07294cbda411201270d821c6f75c79e5ef39",
        "_cell_guid": "1b98e0b5-afe2-4a81-bbdb-b6dd57087b52"
      },
      "cell_type": "markdown",
      "source": "Selecting specific values of a `pandas` `DataFrame` or `Series` to work on is an implicit step in almost any data operation you'll run. Hence a solid understanding of how to slice and dice a dataset is vital."
    },
    {
      "metadata": {
        "_uuid": "8b720ae90f799dd73fa4c84263e4866bf62bf169",
        "_cell_guid": "df18ef2a-dd0f-4434-af34-4e5d1085157a"
      },
      "cell_type": "markdown",
      "source": "## Naive accessors\n\nNative Python objects provide many good ways of indexing data. `pandas` carries all of these over, which helps make it easy to start with.\n\nConsider this `DataFrame`:"
    },
    {
      "metadata": {
        "_uuid": "04fa80b82c517f8093b0002f8b1b21247f56040b",
        "_cell_guid": "abdd93c5-55b9-4c7d-b556-b5b9c617102a",
        "trusted": true
      },
      "cell_type": "code",
      "source": "reviews",
      "execution_count": 2,
      "outputs": [
        {
          "output_type": "execute_result",
          "execution_count": 2,
          "data": {
            "text/plain": "         country                                        description  \\\n0          Italy  Aromas include tropical fruit, broom, brimston...   \n1       Portugal  This is ripe and fruity, a wine that is smooth...   \n...          ...                                                ...   \n129969    France  A dry style of Pinot Gris, this is crisp with ...   \n129970    France  Big, rich and off-dry, this is powered by inte...   \n\n                          designation  points  price           province  \\\n0                        Vulkà Bianco      87    NaN  Sicily & Sardinia   \n1                            Avidagos      87   15.0              Douro   \n...                               ...     ...    ...                ...   \n129969                            NaN      90   32.0             Alsace   \n129970  Lieu-dit Harth Cuvée Caroline      90   21.0             Alsace   \n\n       region_1 region_2    taster_name taster_twitter_handle  \\\n0          Etna      NaN  Kerin O’Keefe          @kerinokeefe   \n1           NaN      NaN     Roger Voss            @vossroger   \n...         ...      ...            ...                   ...   \n129969   Alsace      NaN     Roger Voss            @vossroger   \n129970   Alsace      NaN     Roger Voss            @vossroger   \n\n                                                    title         variety  \\\n0                       Nicosia 2013 Vulkà Bianco  (Etna)     White Blend   \n1           Quinta dos Avidagos 2011 Avidagos Red (Douro)  Portuguese Red   \n...                                                   ...             ...   \n129969      Domaine Marcel Deiss 2012 Pinot Gris (Alsace)      Pinot Gris   \n129970  Domaine Schoffit 2012 Lieu-dit Harth Cuvée Car...  Gewürztraminer   \n\n                      winery  \n0                    Nicosia  \n1        Quinta dos Avidagos  \n...                      ...  \n129969  Domaine Marcel Deiss  \n129970      Domaine Schoffit  \n\n[129971 rows x 13 columns]",
            "text/html": "<div>\n<style scoped>\n    .dataframe tbody tr th:only-of-type {\n        vertical-align: middle;\n    }\n\n    .dataframe tbody tr th {\n        vertical-align: top;\n    }\n\n    .dataframe thead th {\n        text-align: right;\n    }\n</style>\n<table border=\"1\" class=\"dataframe\">\n  <thead>\n    <tr style=\"text-align: right;\">\n      <th></th>\n      <th>country</th>\n      <th>description</th>\n      <th>designation</th>\n      <th>points</th>\n      <th>price</th>\n      <th>province</th>\n      <th>region_1</th>\n      <th>region_2</th>\n      <th>taster_name</th>\n      <th>taster_twitter_handle</th>\n      <th>title</th>\n      <th>variety</th>\n      <th>winery</th>\n    </tr>\n  </thead>\n  <tbody>\n    <tr>\n      <th>0</th>\n      <td>Italy</td>\n      <td>Aromas include tropical fruit, broom, brimston...</td>\n      <td>Vulkà Bianco</td>\n      <td>87</td>\n      <td>NaN</td>\n      <td>Sicily &amp; Sardinia</td>\n      <td>Etna</td>\n      <td>NaN</td>\n      <td>Kerin O’Keefe</td>\n      <td>@kerinokeefe</td>\n      <td>Nicosia 2013 Vulkà Bianco  (Etna)</td>\n      <td>White Blend</td>\n      <td>Nicosia</td>\n    </tr>\n    <tr>\n      <th>1</th>\n      <td>Portugal</td>\n      <td>This is ripe and fruity, a wine that is smooth...</td>\n      <td>Avidagos</td>\n      <td>87</td>\n      <td>15.0</td>\n      <td>Douro</td>\n      <td>NaN</td>\n      <td>NaN</td>\n      <td>Roger Voss</td>\n      <td>@vossroger</td>\n      <td>Quinta dos Avidagos 2011 Avidagos Red (Douro)</td>\n      <td>Portuguese Red</td>\n      <td>Quinta dos Avidagos</td>\n    </tr>\n    <tr>\n      <th>...</th>\n      <td>...</td>\n      <td>...</td>\n      <td>...</td>\n      <td>...</td>\n      <td>...</td>\n      <td>...</td>\n      <td>...</td>\n      <td>...</td>\n      <td>...</td>\n      <td>...</td>\n      <td>...</td>\n      <td>...</td>\n      <td>...</td>\n    </tr>\n    <tr>\n      <th>129969</th>\n      <td>France</td>\n      <td>A dry style of Pinot Gris, this is crisp with ...</td>\n      <td>NaN</td>\n      <td>90</td>\n      <td>32.0</td>\n      <td>Alsace</td>\n      <td>Alsace</td>\n      <td>NaN</td>\n      <td>Roger Voss</td>\n      <td>@vossroger</td>\n      <td>Domaine Marcel Deiss 2012 Pinot Gris (Alsace)</td>\n      <td>Pinot Gris</td>\n      <td>Domaine Marcel Deiss</td>\n    </tr>\n    <tr>\n      <th>129970</th>\n      <td>France</td>\n      <td>Big, rich and off-dry, this is powered by inte...</td>\n      <td>Lieu-dit Harth Cuvée Caroline</td>\n      <td>90</td>\n      <td>21.0</td>\n      <td>Alsace</td>\n      <td>Alsace</td>\n      <td>NaN</td>\n      <td>Roger Voss</td>\n      <td>@vossroger</td>\n      <td>Domaine Schoffit 2012 Lieu-dit Harth Cuvée Car...</td>\n      <td>Gewürztraminer</td>\n      <td>Domaine Schoffit</td>\n    </tr>\n  </tbody>\n</table>\n<p>129971 rows × 13 columns</p>\n</div>"
          },
          "metadata": {}
        }
      ]
    },
    {
      "metadata": {
        "_uuid": "5a997cc06323f4290bb86c95cca45f39ca4d64d7",
        "_cell_guid": "e88e5105-a4a0-4f29-83ff-4edd2b9fb55c"
      },
      "cell_type": "markdown",
      "source": "In Python we can access the property of an object by accessing it as an attribute. A `book` object, for example, might have a `title` property, which we can access by calling `book.title`. Columns in a `pandas` `DataFrame` work in much the same way. \n\nHence to access the `country` property of our `reviews` we can use:"
    },
    {
      "metadata": {
        "_uuid": "ab668325f2d7190cc7844228a4cbb06ca7f60c14",
        "_cell_guid": "e88186df-ca52-4802-b9be-6f5dca40c1c4",
        "trusted": true
      },
      "cell_type": "code",
      "source": "reviews.country",
      "execution_count": 5,
      "outputs": [
        {
          "output_type": "execute_result",
          "execution_count": 5,
          "data": {
            "text/plain": "0            Italy\n1         Portugal\n            ...   \n129969      France\n129970      France\nName: country, Length: 129971, dtype: object"
          },
          "metadata": {}
        }
      ]
    },
    {
      "metadata": {
        "_uuid": "602c300d22fa92a9a8c4e3571e53284a26bf2bd5",
        "_cell_guid": "da9d5427-ec0f-4df2-99a1-6eb869b8eb44"
      },
      "cell_type": "markdown",
      "source": "If we have a `dict` <font color = 'red'>object in Python, we can access its values using the indexing (`[]`) operator<font color = 'black'>. Again, we can do the same with `pandas` `DataFrame` columns. It \"just works\":"
    },
    {
      "metadata": {
        "_uuid": "5a1c5dde263b3495dcb95261f37dbbd313465c88",
        "_cell_guid": "0dadc3b1-e496-467e-9769-f96e3ed6aa5f",
        "trusted": true
      },
      "cell_type": "code",
      "source": "reviews['country']",
      "execution_count": 6,
      "outputs": [
        {
          "output_type": "execute_result",
          "execution_count": 6,
          "data": {
            "text/plain": "0            Italy\n1         Portugal\n            ...   \n129969      France\n129970      France\nName: country, Length: 129971, dtype: object"
          },
          "metadata": {}
        }
      ]
    },
    {
      "metadata": {
        "_uuid": "11561d4f40ef826c42e17f3e0de58ca8344ac645",
        "_cell_guid": "5c92f2db-20ef-4502-b7ec-f97a8fe02a34"
      },
      "cell_type": "markdown",
      "source": "These are <font color = 'red'><font color = 'black'>the two ways of selecting a specific columnar `Series` out of a `pandas` `DataFrame`. <font color = 'black'>Neither of them is more or less syntactically valid than the other,<font color = 'red'> but the indexing operator `[]` does have the advantage that it can handle column names with reserved characters in them (e.g. if we had a `country providence` column, `reviews.country providence` wouldn't work).<font color = 'black'>\n\nDoesn't a `pandas` `Series` look kind of like a fancy `dict`? It pretty much is, <font color = 'red'>so it's no surprise that, to drill down to a single specific value, we need only use the indexing operator `[]` once more:"
    },
    {
      "metadata": {
        "_uuid": "d48f80969e3e53a58851460c9bcf389a60069573",
        "_cell_guid": "a80f627f-1585-402b-bfd1-cdcb4d293e0c",
        "trusted": true
      },
      "cell_type": "code",
      "source": "reviews['country'][0]",
      "execution_count": 7,
      "outputs": [
        {
          "output_type": "execute_result",
          "execution_count": 7,
          "data": {
            "text/plain": "'Italy'"
          },
          "metadata": {}
        }
      ]
    },
    {
      "metadata": {
        "_uuid": "2a96160b000454e4d82bebb9b414bfcd7e53fb22",
        "_cell_guid": "29662e95-4596-42eb-8cc8-19457c22a3d7"
      },
      "cell_type": "markdown",
      "source": "## Index-based selection\n\nThe indexing operator and attribute selection are nice because they work just like they do in the rest of the Python ecosystem. As a novice, this makes them easy to pick up and use. <font color = 'red'>However, `pandas` has its own accessor operators, `loc` and `iloc`. For more advanced operations, these are the ones you're supposed to be using.\n\n`pandas` indexing works in one of two paradigms.<font color = 'black'> \n\nThe first is **index-based selection**: selecting data based on its **numerical position** in the data. `iloc` follows this paradigm.\n\nTo select the first row of data in this `DataFrame`, we may use the following:"
    },
    {
      "metadata": {
        "_uuid": "21d23f8110dc25a1beb684305c4cb6755f8e12c5",
        "_cell_guid": "f8ca91e3-de76-4f54-9fc8-50ce917f006d",
        "trusted": true
      },
      "cell_type": "code",
      "source": "reviews.iloc[0]  # outputs the first row of the dataframe",
      "execution_count": 9,
      "outputs": [
        {
          "output_type": "execute_result",
          "execution_count": 9,
          "data": {
            "text/plain": "country                                                    Italy\ndescription    Aromas include tropical fruit, broom, brimston...\n                                     ...                        \nvariety                                              White Blend\nwinery                                                   Nicosia\nName: 0, Length: 13, dtype: object"
          },
          "metadata": {}
        }
      ]
    },
    {
      "metadata": {
        "_uuid": "6b25a7bd27709279bd9e347e83ed99852eec506e",
        "_cell_guid": "20150f16-38fd-4c2e-8364-dde4389e22b0"
      },
      "cell_type": "markdown",
      "source": "<font color = 'red'>Both `loc` and `iloc` are row-first, column-second. This is the opposite of what we do in native Python, which is column-first, row-second.\n<font color = 'black'>\n\nThis means that it's marginally easier to retrieve rows, and marginally harder to get retrieve columns.\n\nTo get a column with `iloc`, we can do the following:"
    },
    {
      "metadata": {
        "_uuid": "e9eb1af97f599b71d1cd993794b98a430a00d8c7",
        "_cell_guid": "7c9b85dc-e11b-4b33-b5dc-f3a4dcf3fd0d",
        "trusted": true
      },
      "cell_type": "code",
      "source": "reviews.iloc[:, 0] # the first column of the dataframe",
      "execution_count": 11,
      "outputs": [
        {
          "output_type": "execute_result",
          "execution_count": 11,
          "data": {
            "text/plain": "0            Italy\n1         Portugal\n            ...   \n129969      France\n129970      France\nName: country, Length: 129971, dtype: object"
          },
          "metadata": {}
        }
      ]
    },
    {
      "metadata": {
        "_uuid": "61223ecd9c4533bbb8c086c777610a426f56247a",
        "_cell_guid": "22d5cf6b-9083-4a7d-866e-2313bcc3f94c"
      },
      "cell_type": "markdown",
      "source": "On its own the `:` operator, which also comes from native Python, means \"everything\". When combined with other selectors, however, it can be used to indicate a range of values. For example, to select the `country` column from just the first, second, and third row, we would do:"
    },
    {
      "metadata": {
        "_uuid": "7d5dae3b0d0abbbe552a306055167d180c975d50",
        "_cell_guid": "622c6b8d-cf36-4fc4-921b-b2afb834bac5",
        "trusted": true
      },
      "cell_type": "code",
      "source": "reviews.iloc[:3, 0]   # [first 3 rows, first column]",
      "execution_count": 14,
      "outputs": [
        {
          "output_type": "execute_result",
          "execution_count": 14,
          "data": {
            "text/plain": "0       Italy\n1    Portugal\n2          US\nName: country, dtype: object"
          },
          "metadata": {}
        }
      ]
    },
    {
      "metadata": {
        "_uuid": "9352f0e4a72baa09eba0619096ec9fceabb8bf99",
        "_cell_guid": "932365f1-7e6f-4003-b99d-c41267a47eae"
      },
      "cell_type": "markdown",
      "source": "Or, to select just the second and third entries, we would do:"
    },
    {
      "metadata": {
        "_uuid": "6b5659f0ec3b78b6d63fe55758b41517ed16a3b5",
        "_cell_guid": "5dccc9b5-72de-467f-9fbe-76ee19f8e49c",
        "trusted": true
      },
      "cell_type": "code",
      "source": "reviews.iloc[1:3, 0] # here we are selecting [ second(1st) and third(2nd) row and , first column(0th)]\n# iloc  doesn't include the last row or column element like here fourth row, i.e (3rd) is not selected",
      "execution_count": 16,
      "outputs": [
        {
          "output_type": "execute_result",
          "execution_count": 16,
          "data": {
            "text/plain": "1    Portugal\n2          US\nName: country, dtype: object"
          },
          "metadata": {}
        }
      ]
    },
    {
      "metadata": {
        "_uuid": "89b8338345eed2a406afbf24d66c0aaf430e77dd",
        "_cell_guid": "e21b49e3-a358-48a0-afd5-014cd24ee2e5"
      },
      "cell_type": "markdown",
      "source": "![](http://)<font color = 'red'>It's also possible to pass a list:"
    },
    {
      "metadata": {
        "_uuid": "cfa5c4149759dfeae1625db5651eae8c274d9406",
        "_cell_guid": "a721c08b-2d70-4205-9f0f-275e43eb9e41",
        "trusted": true
      },
      "cell_type": "code",
      "source": "reviews.iloc[[0, 1, 2], 0] #i.e select row 0th, 1st and 2nd, then slect column 0th only",
      "execution_count": 17,
      "outputs": [
        {
          "output_type": "execute_result",
          "execution_count": 17,
          "data": {
            "text/plain": "0       Italy\n1    Portugal\n2          US\nName: country, dtype: object"
          },
          "metadata": {}
        }
      ]
    },
    {
      "metadata": {
        "_uuid": "4d7268098c13d7a5e4d951eb0b08d372a18d2f56",
        "_cell_guid": "cda24b3c-a007-45f8-b6e5-6a81a5573b35"
      },
      "cell_type": "markdown",
      "source": "Finally, it's worth knowing that<font color = 'red'> negative numbers can be used in selection. This will start counting forwards from the _end_ of the values.<font color = 'black'> So for example here are the last five elements of the dataset."
    },
    {
      "metadata": {
        "_uuid": "ba3e8965ce87c10e00426e28574e72ddcaefd7cc",
        "_cell_guid": "c086ed13-3a41-4c8e-9d99-19423d736050",
        "trusted": true
      },
      "cell_type": "code",
      "source": "reviews.iloc[-5:]",
      "execution_count": 18,
      "outputs": [
        {
          "output_type": "execute_result",
          "execution_count": 18,
          "data": {
            "text/plain": "        country                                        description  \\\n129966  Germany  Notes of honeysuckle and cantaloupe sweeten th...   \n129967       US  Citation is given as much as a decade of bottl...   \n129968   France  Well-drained gravel soil gives this wine its c...   \n129969   France  A dry style of Pinot Gris, this is crisp with ...   \n129970   France  Big, rich and off-dry, this is powered by inte...   \n\n                                   designation  points  price province  \\\n129966  Brauneberger Juffer-Sonnenuhr Spätlese      90   28.0    Mosel   \n129967                                     NaN      90   75.0   Oregon   \n129968                                   Kritt      90   30.0   Alsace   \n129969                                     NaN      90   32.0   Alsace   \n129970           Lieu-dit Harth Cuvée Caroline      90   21.0   Alsace   \n\n       region_1      region_2         taster_name taster_twitter_handle  \\\n129966      NaN           NaN  Anna Lee C. Iijima                   NaN   \n129967   Oregon  Oregon Other        Paul Gregutt           @paulgwine    \n129968   Alsace           NaN          Roger Voss            @vossroger   \n129969   Alsace           NaN          Roger Voss            @vossroger   \n129970   Alsace           NaN          Roger Voss            @vossroger   \n\n                                                    title         variety  \\\n129966  Dr. H. Thanisch (Erben Müller-Burggraef) 2013 ...        Riesling   \n129967                  Citation 2004 Pinot Noir (Oregon)      Pinot Noir   \n129968  Domaine Gresser 2013 Kritt Gewurztraminer (Als...  Gewürztraminer   \n129969      Domaine Marcel Deiss 2012 Pinot Gris (Alsace)      Pinot Gris   \n129970  Domaine Schoffit 2012 Lieu-dit Harth Cuvée Car...  Gewürztraminer   \n\n                                          winery  \n129966  Dr. H. Thanisch (Erben Müller-Burggraef)  \n129967                                  Citation  \n129968                           Domaine Gresser  \n129969                      Domaine Marcel Deiss  \n129970                          Domaine Schoffit  ",
            "text/html": "<div>\n<style scoped>\n    .dataframe tbody tr th:only-of-type {\n        vertical-align: middle;\n    }\n\n    .dataframe tbody tr th {\n        vertical-align: top;\n    }\n\n    .dataframe thead th {\n        text-align: right;\n    }\n</style>\n<table border=\"1\" class=\"dataframe\">\n  <thead>\n    <tr style=\"text-align: right;\">\n      <th></th>\n      <th>country</th>\n      <th>description</th>\n      <th>designation</th>\n      <th>points</th>\n      <th>price</th>\n      <th>province</th>\n      <th>region_1</th>\n      <th>region_2</th>\n      <th>taster_name</th>\n      <th>taster_twitter_handle</th>\n      <th>title</th>\n      <th>variety</th>\n      <th>winery</th>\n    </tr>\n  </thead>\n  <tbody>\n    <tr>\n      <th>129966</th>\n      <td>Germany</td>\n      <td>Notes of honeysuckle and cantaloupe sweeten th...</td>\n      <td>Brauneberger Juffer-Sonnenuhr Spätlese</td>\n      <td>90</td>\n      <td>28.0</td>\n      <td>Mosel</td>\n      <td>NaN</td>\n      <td>NaN</td>\n      <td>Anna Lee C. Iijima</td>\n      <td>NaN</td>\n      <td>Dr. H. Thanisch (Erben Müller-Burggraef) 2013 ...</td>\n      <td>Riesling</td>\n      <td>Dr. H. Thanisch (Erben Müller-Burggraef)</td>\n    </tr>\n    <tr>\n      <th>129967</th>\n      <td>US</td>\n      <td>Citation is given as much as a decade of bottl...</td>\n      <td>NaN</td>\n      <td>90</td>\n      <td>75.0</td>\n      <td>Oregon</td>\n      <td>Oregon</td>\n      <td>Oregon Other</td>\n      <td>Paul Gregutt</td>\n      <td>@paulgwine</td>\n      <td>Citation 2004 Pinot Noir (Oregon)</td>\n      <td>Pinot Noir</td>\n      <td>Citation</td>\n    </tr>\n    <tr>\n      <th>129968</th>\n      <td>France</td>\n      <td>Well-drained gravel soil gives this wine its c...</td>\n      <td>Kritt</td>\n      <td>90</td>\n      <td>30.0</td>\n      <td>Alsace</td>\n      <td>Alsace</td>\n      <td>NaN</td>\n      <td>Roger Voss</td>\n      <td>@vossroger</td>\n      <td>Domaine Gresser 2013 Kritt Gewurztraminer (Als...</td>\n      <td>Gewürztraminer</td>\n      <td>Domaine Gresser</td>\n    </tr>\n    <tr>\n      <th>129969</th>\n      <td>France</td>\n      <td>A dry style of Pinot Gris, this is crisp with ...</td>\n      <td>NaN</td>\n      <td>90</td>\n      <td>32.0</td>\n      <td>Alsace</td>\n      <td>Alsace</td>\n      <td>NaN</td>\n      <td>Roger Voss</td>\n      <td>@vossroger</td>\n      <td>Domaine Marcel Deiss 2012 Pinot Gris (Alsace)</td>\n      <td>Pinot Gris</td>\n      <td>Domaine Marcel Deiss</td>\n    </tr>\n    <tr>\n      <th>129970</th>\n      <td>France</td>\n      <td>Big, rich and off-dry, this is powered by inte...</td>\n      <td>Lieu-dit Harth Cuvée Caroline</td>\n      <td>90</td>\n      <td>21.0</td>\n      <td>Alsace</td>\n      <td>Alsace</td>\n      <td>NaN</td>\n      <td>Roger Voss</td>\n      <td>@vossroger</td>\n      <td>Domaine Schoffit 2012 Lieu-dit Harth Cuvée Car...</td>\n      <td>Gewürztraminer</td>\n      <td>Domaine Schoffit</td>\n    </tr>\n  </tbody>\n</table>\n</div>"
          },
          "metadata": {}
        }
      ]
    },
    {
      "metadata": {
        "_uuid": "6214fa7cc373d08136c0fd0d1db3cd3200bfd927",
        "_cell_guid": "5453ebb3-68d6-4891-a243-b83d7610c3a7"
      },
      "cell_type": "markdown",
      "source": "## Label-based selection\n\nThe <font color = 'red'>second paradigm for attribute selection is the one followed by the `loc` operator:<font color = 'black'> **label-based selection**. \n\nIn this paradigm <font color = 'red'>it's the data index value, not its position, which matters.<font color = 'black'>\n\nFor example, to get the first entry in `reviews`, we would now do the following:"
    },
    {
      "metadata": {
        "_uuid": "089c8a3b42b763eda4e6968d3f6f879cf0c8fd37",
        "_cell_guid": "a6562e0c-8d67-4125-80c0-d00681cae11a",
        "trusted": true
      },
      "cell_type": "code",
      "source": "reviews.loc[0, 'country'] #   [ first row, column 'Country'] is selected",
      "execution_count": 25,
      "outputs": [
        {
          "output_type": "execute_result",
          "execution_count": 25,
          "data": {
            "text/plain": "'Italy'"
          },
          "metadata": {}
        }
      ]
    },
    {
      "metadata": {
        "_uuid": "5bed8e5afda38022558f2e812e50a078f82a2283",
        "_cell_guid": "37dacbfd-500c-477e-a880-84c69db9d33e"
      },
      "cell_type": "markdown",
      "source": "`iloc` is conceptually simpler than `loc` because it ignores the dataset's indices. When we use `iloc` we treat the dataset like a big matrix (a list of lists), one that we have to index into by position. `loc`, by contrast, uses the information in the indices to do its work. Since your dataset usually has meaningful indices, it's usually easier to do things using `loc` instead. \n\nFor example, here's one operation that's much easier using `loc`:"
    },
    {
      "metadata": {
        "_uuid": "b4b7a69b0b061914d9c8c60f3bf4312ea132d970",
        "_cell_guid": "94593b87-a433-4915-9749-99fdb45b69ef",
        "trusted": true
      },
      "cell_type": "code",
      "source": "reviews.loc[:, ['taster_name', 'taster_twitter_handle', 'points']] #[ all rows, columns mentioned in the list]",
      "execution_count": 27,
      "outputs": [
        {
          "output_type": "execute_result",
          "execution_count": 27,
          "data": {
            "text/plain": "          taster_name taster_twitter_handle  points\n0       Kerin O’Keefe          @kerinokeefe      87\n1          Roger Voss            @vossroger      87\n...               ...                   ...     ...\n129969     Roger Voss            @vossroger      90\n129970     Roger Voss            @vossroger      90\n\n[129971 rows x 3 columns]",
            "text/html": "<div>\n<style scoped>\n    .dataframe tbody tr th:only-of-type {\n        vertical-align: middle;\n    }\n\n    .dataframe tbody tr th {\n        vertical-align: top;\n    }\n\n    .dataframe thead th {\n        text-align: right;\n    }\n</style>\n<table border=\"1\" class=\"dataframe\">\n  <thead>\n    <tr style=\"text-align: right;\">\n      <th></th>\n      <th>taster_name</th>\n      <th>taster_twitter_handle</th>\n      <th>points</th>\n    </tr>\n  </thead>\n  <tbody>\n    <tr>\n      <th>0</th>\n      <td>Kerin O’Keefe</td>\n      <td>@kerinokeefe</td>\n      <td>87</td>\n    </tr>\n    <tr>\n      <th>1</th>\n      <td>Roger Voss</td>\n      <td>@vossroger</td>\n      <td>87</td>\n    </tr>\n    <tr>\n      <th>...</th>\n      <td>...</td>\n      <td>...</td>\n      <td>...</td>\n    </tr>\n    <tr>\n      <th>129969</th>\n      <td>Roger Voss</td>\n      <td>@vossroger</td>\n      <td>90</td>\n    </tr>\n    <tr>\n      <th>129970</th>\n      <td>Roger Voss</td>\n      <td>@vossroger</td>\n      <td>90</td>\n    </tr>\n  </tbody>\n</table>\n<p>129971 rows × 3 columns</p>\n</div>"
          },
          "metadata": {}
        }
      ]
    },
    {
      "metadata": {
        "_uuid": "6f41f0ab82a724517b0a0381865d504e38e8e132",
        "_cell_guid": "237592d4-1ebc-424b-a778-3cc6cd667add"
      },
      "cell_type": "markdown",
      "source": "Aside from this, the semantics of using `loc` are basically the same as they are for `iloc`."
    },
    {
      "metadata": {
        "_uuid": "6f618788ba7b774ebcb9dbf9106374db635b5e70",
        "_cell_guid": "ec99fc57-9ba6-4e1f-b392-00a359ac3520"
      },
      "cell_type": "markdown",
      "source": "## Manipulating the index\n\n<font color = 'red'>Label-based selection derives its power from the labels in the index. Critically, the index we use is not immutable.<font color = 'black'>\n\nWe can manipulate the index in any way we see fit.\n\n<font color = 'red'>The `set_index` method can be used to do the job.<font color = 'black'> Here is what happens when we `set_index` to the `title` field:"
    },
    {
      "metadata": {
        "_uuid": "22b5b3eadffe0e6c7e37d1dc597dd655eae2aa8c",
        "_cell_guid": "c0d0352f-297f-44ff-b6d7-c778e027e22b",
        "trusted": true
      },
      "cell_type": "code",
      "source": "reviews.set_index(\"title\")  # here we're adding a new row for setting the index",
      "execution_count": 32,
      "outputs": [
        {
          "output_type": "execute_result",
          "execution_count": 32,
          "data": {
            "text/plain": "                                                     country  \\\ntitle                                                          \nNicosia 2013 Vulkà Bianco  (Etna)                      Italy   \nQuinta dos Avidagos 2011 Avidagos Red (Douro)       Portugal   \n...                                                      ...   \nDomaine Marcel Deiss 2012 Pinot Gris (Alsace)         France   \nDomaine Schoffit 2012 Lieu-dit Harth Cuvée Caro...    France   \n\n                                                                                          description  \\\ntitle                                                                                                   \nNicosia 2013 Vulkà Bianco  (Etna)                   Aromas include tropical fruit, broom, brimston...   \nQuinta dos Avidagos 2011 Avidagos Red (Douro)       This is ripe and fruity, a wine that is smooth...   \n...                                                                                               ...   \nDomaine Marcel Deiss 2012 Pinot Gris (Alsace)       A dry style of Pinot Gris, this is crisp with ...   \nDomaine Schoffit 2012 Lieu-dit Harth Cuvée Caro...  Big, rich and off-dry, this is powered by inte...   \n\n                                                                      designation  \\\ntitle                                                                               \nNicosia 2013 Vulkà Bianco  (Etna)                                    Vulkà Bianco   \nQuinta dos Avidagos 2011 Avidagos Red (Douro)                            Avidagos   \n...                                                                           ...   \nDomaine Marcel Deiss 2012 Pinot Gris (Alsace)                                 NaN   \nDomaine Schoffit 2012 Lieu-dit Harth Cuvée Caro...  Lieu-dit Harth Cuvée Caroline   \n\n                                                    points  price  \\\ntitle                                                               \nNicosia 2013 Vulkà Bianco  (Etna)                       87    NaN   \nQuinta dos Avidagos 2011 Avidagos Red (Douro)           87   15.0   \n...                                                    ...    ...   \nDomaine Marcel Deiss 2012 Pinot Gris (Alsace)           90   32.0   \nDomaine Schoffit 2012 Lieu-dit Harth Cuvée Caro...      90   21.0   \n\n                                                             province  \\\ntitle                                                                   \nNicosia 2013 Vulkà Bianco  (Etna)                   Sicily & Sardinia   \nQuinta dos Avidagos 2011 Avidagos Red (Douro)                   Douro   \n...                                                               ...   \nDomaine Marcel Deiss 2012 Pinot Gris (Alsace)                  Alsace   \nDomaine Schoffit 2012 Lieu-dit Harth Cuvée Caro...             Alsace   \n\n                                                   region_1 region_2  \\\ntitle                                                                  \nNicosia 2013 Vulkà Bianco  (Etna)                      Etna      NaN   \nQuinta dos Avidagos 2011 Avidagos Red (Douro)           NaN      NaN   \n...                                                     ...      ...   \nDomaine Marcel Deiss 2012 Pinot Gris (Alsace)        Alsace      NaN   \nDomaine Schoffit 2012 Lieu-dit Harth Cuvée Caro...   Alsace      NaN   \n\n                                                      taster_name  \\\ntitle                                                               \nNicosia 2013 Vulkà Bianco  (Etna)                   Kerin O’Keefe   \nQuinta dos Avidagos 2011 Avidagos Red (Douro)          Roger Voss   \n...                                                           ...   \nDomaine Marcel Deiss 2012 Pinot Gris (Alsace)          Roger Voss   \nDomaine Schoffit 2012 Lieu-dit Harth Cuvée Caro...     Roger Voss   \n\n                                                   taster_twitter_handle  \\\ntitle                                                                      \nNicosia 2013 Vulkà Bianco  (Etna)                           @kerinokeefe   \nQuinta dos Avidagos 2011 Avidagos Red (Douro)                 @vossroger   \n...                                                                  ...   \nDomaine Marcel Deiss 2012 Pinot Gris (Alsace)                 @vossroger   \nDomaine Schoffit 2012 Lieu-dit Harth Cuvée Caro...            @vossroger   \n\n                                                           variety  \\\ntitle                                                                \nNicosia 2013 Vulkà Bianco  (Etna)                      White Blend   \nQuinta dos Avidagos 2011 Avidagos Red (Douro)       Portuguese Red   \n...                                                            ...   \nDomaine Marcel Deiss 2012 Pinot Gris (Alsace)           Pinot Gris   \nDomaine Schoffit 2012 Lieu-dit Harth Cuvée Caro...  Gewürztraminer   \n\n                                                                  winery  \ntitle                                                                     \nNicosia 2013 Vulkà Bianco  (Etna)                                Nicosia  \nQuinta dos Avidagos 2011 Avidagos Red (Douro)        Quinta dos Avidagos  \n...                                                                  ...  \nDomaine Marcel Deiss 2012 Pinot Gris (Alsace)       Domaine Marcel Deiss  \nDomaine Schoffit 2012 Lieu-dit Harth Cuvée Caro...      Domaine Schoffit  \n\n[129971 rows x 12 columns]",
            "text/html": "<div>\n<style scoped>\n    .dataframe tbody tr th:only-of-type {\n        vertical-align: middle;\n    }\n\n    .dataframe tbody tr th {\n        vertical-align: top;\n    }\n\n    .dataframe thead th {\n        text-align: right;\n    }\n</style>\n<table border=\"1\" class=\"dataframe\">\n  <thead>\n    <tr style=\"text-align: right;\">\n      <th></th>\n      <th>country</th>\n      <th>description</th>\n      <th>designation</th>\n      <th>points</th>\n      <th>price</th>\n      <th>province</th>\n      <th>region_1</th>\n      <th>region_2</th>\n      <th>taster_name</th>\n      <th>taster_twitter_handle</th>\n      <th>variety</th>\n      <th>winery</th>\n    </tr>\n    <tr>\n      <th>title</th>\n      <th></th>\n      <th></th>\n      <th></th>\n      <th></th>\n      <th></th>\n      <th></th>\n      <th></th>\n      <th></th>\n      <th></th>\n      <th></th>\n      <th></th>\n      <th></th>\n    </tr>\n  </thead>\n  <tbody>\n    <tr>\n      <th>Nicosia 2013 Vulkà Bianco  (Etna)</th>\n      <td>Italy</td>\n      <td>Aromas include tropical fruit, broom, brimston...</td>\n      <td>Vulkà Bianco</td>\n      <td>87</td>\n      <td>NaN</td>\n      <td>Sicily &amp; Sardinia</td>\n      <td>Etna</td>\n      <td>NaN</td>\n      <td>Kerin O’Keefe</td>\n      <td>@kerinokeefe</td>\n      <td>White Blend</td>\n      <td>Nicosia</td>\n    </tr>\n    <tr>\n      <th>Quinta dos Avidagos 2011 Avidagos Red (Douro)</th>\n      <td>Portugal</td>\n      <td>This is ripe and fruity, a wine that is smooth...</td>\n      <td>Avidagos</td>\n      <td>87</td>\n      <td>15.0</td>\n      <td>Douro</td>\n      <td>NaN</td>\n      <td>NaN</td>\n      <td>Roger Voss</td>\n      <td>@vossroger</td>\n      <td>Portuguese Red</td>\n      <td>Quinta dos Avidagos</td>\n    </tr>\n    <tr>\n      <th>...</th>\n      <td>...</td>\n      <td>...</td>\n      <td>...</td>\n      <td>...</td>\n      <td>...</td>\n      <td>...</td>\n      <td>...</td>\n      <td>...</td>\n      <td>...</td>\n      <td>...</td>\n      <td>...</td>\n      <td>...</td>\n    </tr>\n    <tr>\n      <th>Domaine Marcel Deiss 2012 Pinot Gris (Alsace)</th>\n      <td>France</td>\n      <td>A dry style of Pinot Gris, this is crisp with ...</td>\n      <td>NaN</td>\n      <td>90</td>\n      <td>32.0</td>\n      <td>Alsace</td>\n      <td>Alsace</td>\n      <td>NaN</td>\n      <td>Roger Voss</td>\n      <td>@vossroger</td>\n      <td>Pinot Gris</td>\n      <td>Domaine Marcel Deiss</td>\n    </tr>\n    <tr>\n      <th>Domaine Schoffit 2012 Lieu-dit Harth Cuvée Caroline Gewurztraminer (Alsace)</th>\n      <td>France</td>\n      <td>Big, rich and off-dry, this is powered by inte...</td>\n      <td>Lieu-dit Harth Cuvée Caroline</td>\n      <td>90</td>\n      <td>21.0</td>\n      <td>Alsace</td>\n      <td>Alsace</td>\n      <td>NaN</td>\n      <td>Roger Voss</td>\n      <td>@vossroger</td>\n      <td>Gewürztraminer</td>\n      <td>Domaine Schoffit</td>\n    </tr>\n  </tbody>\n</table>\n<p>129971 rows × 12 columns</p>\n</div>"
          },
          "metadata": {}
        }
      ]
    },
    {
      "metadata": {
        "trusted": true,
        "_uuid": "7410df5147e21a536bba1c00f5a5b0db0b04b086"
      },
      "cell_type": "code",
      "source": "reviews",
      "execution_count": 29,
      "outputs": [
        {
          "output_type": "execute_result",
          "execution_count": 29,
          "data": {
            "text/plain": "         country                                        description  \\\n0          Italy  Aromas include tropical fruit, broom, brimston...   \n1       Portugal  This is ripe and fruity, a wine that is smooth...   \n...          ...                                                ...   \n129969    France  A dry style of Pinot Gris, this is crisp with ...   \n129970    France  Big, rich and off-dry, this is powered by inte...   \n\n                          designation  points  price           province  \\\n0                        Vulkà Bianco      87    NaN  Sicily & Sardinia   \n1                            Avidagos      87   15.0              Douro   \n...                               ...     ...    ...                ...   \n129969                            NaN      90   32.0             Alsace   \n129970  Lieu-dit Harth Cuvée Caroline      90   21.0             Alsace   \n\n       region_1 region_2    taster_name taster_twitter_handle  \\\n0          Etna      NaN  Kerin O’Keefe          @kerinokeefe   \n1           NaN      NaN     Roger Voss            @vossroger   \n...         ...      ...            ...                   ...   \n129969   Alsace      NaN     Roger Voss            @vossroger   \n129970   Alsace      NaN     Roger Voss            @vossroger   \n\n                                                    title         variety  \\\n0                       Nicosia 2013 Vulkà Bianco  (Etna)     White Blend   \n1           Quinta dos Avidagos 2011 Avidagos Red (Douro)  Portuguese Red   \n...                                                   ...             ...   \n129969      Domaine Marcel Deiss 2012 Pinot Gris (Alsace)      Pinot Gris   \n129970  Domaine Schoffit 2012 Lieu-dit Harth Cuvée Car...  Gewürztraminer   \n\n                      winery  \n0                    Nicosia  \n1        Quinta dos Avidagos  \n...                      ...  \n129969  Domaine Marcel Deiss  \n129970      Domaine Schoffit  \n\n[129971 rows x 13 columns]",
            "text/html": "<div>\n<style scoped>\n    .dataframe tbody tr th:only-of-type {\n        vertical-align: middle;\n    }\n\n    .dataframe tbody tr th {\n        vertical-align: top;\n    }\n\n    .dataframe thead th {\n        text-align: right;\n    }\n</style>\n<table border=\"1\" class=\"dataframe\">\n  <thead>\n    <tr style=\"text-align: right;\">\n      <th></th>\n      <th>country</th>\n      <th>description</th>\n      <th>designation</th>\n      <th>points</th>\n      <th>price</th>\n      <th>province</th>\n      <th>region_1</th>\n      <th>region_2</th>\n      <th>taster_name</th>\n      <th>taster_twitter_handle</th>\n      <th>title</th>\n      <th>variety</th>\n      <th>winery</th>\n    </tr>\n  </thead>\n  <tbody>\n    <tr>\n      <th>0</th>\n      <td>Italy</td>\n      <td>Aromas include tropical fruit, broom, brimston...</td>\n      <td>Vulkà Bianco</td>\n      <td>87</td>\n      <td>NaN</td>\n      <td>Sicily &amp; Sardinia</td>\n      <td>Etna</td>\n      <td>NaN</td>\n      <td>Kerin O’Keefe</td>\n      <td>@kerinokeefe</td>\n      <td>Nicosia 2013 Vulkà Bianco  (Etna)</td>\n      <td>White Blend</td>\n      <td>Nicosia</td>\n    </tr>\n    <tr>\n      <th>1</th>\n      <td>Portugal</td>\n      <td>This is ripe and fruity, a wine that is smooth...</td>\n      <td>Avidagos</td>\n      <td>87</td>\n      <td>15.0</td>\n      <td>Douro</td>\n      <td>NaN</td>\n      <td>NaN</td>\n      <td>Roger Voss</td>\n      <td>@vossroger</td>\n      <td>Quinta dos Avidagos 2011 Avidagos Red (Douro)</td>\n      <td>Portuguese Red</td>\n      <td>Quinta dos Avidagos</td>\n    </tr>\n    <tr>\n      <th>...</th>\n      <td>...</td>\n      <td>...</td>\n      <td>...</td>\n      <td>...</td>\n      <td>...</td>\n      <td>...</td>\n      <td>...</td>\n      <td>...</td>\n      <td>...</td>\n      <td>...</td>\n      <td>...</td>\n      <td>...</td>\n      <td>...</td>\n    </tr>\n    <tr>\n      <th>129969</th>\n      <td>France</td>\n      <td>A dry style of Pinot Gris, this is crisp with ...</td>\n      <td>NaN</td>\n      <td>90</td>\n      <td>32.0</td>\n      <td>Alsace</td>\n      <td>Alsace</td>\n      <td>NaN</td>\n      <td>Roger Voss</td>\n      <td>@vossroger</td>\n      <td>Domaine Marcel Deiss 2012 Pinot Gris (Alsace)</td>\n      <td>Pinot Gris</td>\n      <td>Domaine Marcel Deiss</td>\n    </tr>\n    <tr>\n      <th>129970</th>\n      <td>France</td>\n      <td>Big, rich and off-dry, this is powered by inte...</td>\n      <td>Lieu-dit Harth Cuvée Caroline</td>\n      <td>90</td>\n      <td>21.0</td>\n      <td>Alsace</td>\n      <td>Alsace</td>\n      <td>NaN</td>\n      <td>Roger Voss</td>\n      <td>@vossroger</td>\n      <td>Domaine Schoffit 2012 Lieu-dit Harth Cuvée Car...</td>\n      <td>Gewürztraminer</td>\n      <td>Domaine Schoffit</td>\n    </tr>\n  </tbody>\n</table>\n<p>129971 rows × 13 columns</p>\n</div>"
          },
          "metadata": {}
        }
      ]
    },
    {
      "metadata": {
        "_uuid": "54d49592b7ce821bdaaf2c0a55e574dc0a760b70",
        "_cell_guid": "bfa13a38-ecc9-4a18-8ef6-0a10ba000828"
      },
      "cell_type": "markdown",
      "source": "<font color = 'red'>Performing a `set_index` is useful if you can come up with an index for the dataset which is better than the current one."
    },
    {
      "metadata": {
        "_uuid": "600adf843394d74943b7dc3d9208643f1ae5e249",
        "_cell_guid": "6a55aa19-17cc-4093-9c90-eea60e2f16b5"
      },
      "cell_type": "markdown",
      "source": "## Conditional selection\n\nSo far we've been indexing various strides of data, using structural properties of the `DataFrame` itself. To do *interesting* things with the data, however, we often need to ask questions based on conditions. \n\nFor example, suppose that we're interested specifically in better-than-average wines produced in Italy.\n\nWe can start by asking each wine if it's Italian or not:"
    },
    {
      "metadata": {
        "_uuid": "c1ebf674a3264a30d717b04d0e0db632453c19f2",
        "_cell_guid": "8f7ea1bc-b7e3-4e92-a0a1-933b82fbb392",
        "trusted": true
      },
      "cell_type": "code",
      "source": "reviews.country == 'Italy'  # gives boolean values whether if the wine is italian, then Value would be True",
      "execution_count": 34,
      "outputs": [
        {
          "output_type": "execute_result",
          "execution_count": 34,
          "data": {
            "text/plain": "0          True\n1         False\n          ...  \n129969    False\n129970    False\nName: country, Length: 129971, dtype: bool"
          },
          "metadata": {}
        }
      ]
    },
    {
      "metadata": {
        "_uuid": "86e8f2c051d107ffc2d7a7abb0849644a71a9902",
        "_cell_guid": "ed3dfcaf-c5ae-403d-8002-6c742e6030aa"
      },
      "cell_type": "markdown",
      "source": "<font color = 'red'>This operation produced a `Series` of `True`/`False` booleans based on the `country` of each record.  This result can then be used inside of `loc` to select the relevant data:"
    },
    {
      "metadata": {
        "_uuid": "4a9a0af542d762da87a5677eebf45128256f611e",
        "_cell_guid": "8aae98b0-b928-49f0-bd44-eda73c5c18e1",
        "trusted": true
      },
      "cell_type": "code",
      "source": "reviews.loc[reviews.country == 'Italy']  ## we are selecting all the wine manufactured in the ITALy and selcting it's attributes",
      "execution_count": 36,
      "outputs": [
        {
          "output_type": "execute_result",
          "execution_count": 36,
          "data": {
            "text/plain": "       country                                        description  \\\n0        Italy  Aromas include tropical fruit, broom, brimston...   \n6        Italy  Here's a bright, informal red that opens with ...   \n...        ...                                                ...   \n129961   Italy  Intense aromas of wild cherry, baking spice, t...   \n129962   Italy  Blackberry, cassis, grilled herb and toasted a...   \n\n                      designation  points  price           province  region_1  \\\n0                    Vulkà Bianco      87    NaN  Sicily & Sardinia      Etna   \n6                         Belsito      87   16.0  Sicily & Sardinia  Vittoria   \n...                           ...     ...    ...                ...       ...   \n129961                        NaN      90   30.0  Sicily & Sardinia   Sicilia   \n129962  Sàgana Tenuta San Giacomo      90   40.0  Sicily & Sardinia   Sicilia   \n\n       region_2    taster_name taster_twitter_handle  \\\n0           NaN  Kerin O’Keefe          @kerinokeefe   \n6           NaN  Kerin O’Keefe          @kerinokeefe   \n...         ...            ...                   ...   \n129961      NaN  Kerin O’Keefe          @kerinokeefe   \n129962      NaN  Kerin O’Keefe          @kerinokeefe   \n\n                                                    title       variety  \\\n0                       Nicosia 2013 Vulkà Bianco  (Etna)   White Blend   \n6        Terre di Giurfo 2013 Belsito Frappato (Vittoria)      Frappato   \n...                                                   ...           ...   \n129961                        COS 2013 Frappato (Sicilia)      Frappato   \n129962  Cusumano 2012 Sàgana Tenuta San Giacomo Nero d...  Nero d'Avola   \n\n                 winery  \n0               Nicosia  \n6       Terre di Giurfo  \n...                 ...  \n129961              COS  \n129962         Cusumano  \n\n[19540 rows x 13 columns]",
            "text/html": "<div>\n<style scoped>\n    .dataframe tbody tr th:only-of-type {\n        vertical-align: middle;\n    }\n\n    .dataframe tbody tr th {\n        vertical-align: top;\n    }\n\n    .dataframe thead th {\n        text-align: right;\n    }\n</style>\n<table border=\"1\" class=\"dataframe\">\n  <thead>\n    <tr style=\"text-align: right;\">\n      <th></th>\n      <th>country</th>\n      <th>description</th>\n      <th>designation</th>\n      <th>points</th>\n      <th>price</th>\n      <th>province</th>\n      <th>region_1</th>\n      <th>region_2</th>\n      <th>taster_name</th>\n      <th>taster_twitter_handle</th>\n      <th>title</th>\n      <th>variety</th>\n      <th>winery</th>\n    </tr>\n  </thead>\n  <tbody>\n    <tr>\n      <th>0</th>\n      <td>Italy</td>\n      <td>Aromas include tropical fruit, broom, brimston...</td>\n      <td>Vulkà Bianco</td>\n      <td>87</td>\n      <td>NaN</td>\n      <td>Sicily &amp; Sardinia</td>\n      <td>Etna</td>\n      <td>NaN</td>\n      <td>Kerin O’Keefe</td>\n      <td>@kerinokeefe</td>\n      <td>Nicosia 2013 Vulkà Bianco  (Etna)</td>\n      <td>White Blend</td>\n      <td>Nicosia</td>\n    </tr>\n    <tr>\n      <th>6</th>\n      <td>Italy</td>\n      <td>Here's a bright, informal red that opens with ...</td>\n      <td>Belsito</td>\n      <td>87</td>\n      <td>16.0</td>\n      <td>Sicily &amp; Sardinia</td>\n      <td>Vittoria</td>\n      <td>NaN</td>\n      <td>Kerin O’Keefe</td>\n      <td>@kerinokeefe</td>\n      <td>Terre di Giurfo 2013 Belsito Frappato (Vittoria)</td>\n      <td>Frappato</td>\n      <td>Terre di Giurfo</td>\n    </tr>\n    <tr>\n      <th>...</th>\n      <td>...</td>\n      <td>...</td>\n      <td>...</td>\n      <td>...</td>\n      <td>...</td>\n      <td>...</td>\n      <td>...</td>\n      <td>...</td>\n      <td>...</td>\n      <td>...</td>\n      <td>...</td>\n      <td>...</td>\n      <td>...</td>\n    </tr>\n    <tr>\n      <th>129961</th>\n      <td>Italy</td>\n      <td>Intense aromas of wild cherry, baking spice, t...</td>\n      <td>NaN</td>\n      <td>90</td>\n      <td>30.0</td>\n      <td>Sicily &amp; Sardinia</td>\n      <td>Sicilia</td>\n      <td>NaN</td>\n      <td>Kerin O’Keefe</td>\n      <td>@kerinokeefe</td>\n      <td>COS 2013 Frappato (Sicilia)</td>\n      <td>Frappato</td>\n      <td>COS</td>\n    </tr>\n    <tr>\n      <th>129962</th>\n      <td>Italy</td>\n      <td>Blackberry, cassis, grilled herb and toasted a...</td>\n      <td>Sàgana Tenuta San Giacomo</td>\n      <td>90</td>\n      <td>40.0</td>\n      <td>Sicily &amp; Sardinia</td>\n      <td>Sicilia</td>\n      <td>NaN</td>\n      <td>Kerin O’Keefe</td>\n      <td>@kerinokeefe</td>\n      <td>Cusumano 2012 Sàgana Tenuta San Giacomo Nero d...</td>\n      <td>Nero d'Avola</td>\n      <td>Cusumano</td>\n    </tr>\n  </tbody>\n</table>\n<p>19540 rows × 13 columns</p>\n</div>"
          },
          "metadata": {}
        }
      ]
    },
    {
      "metadata": {
        "_uuid": "788105bcadfba29c9e29151ea8b87fc473e18c1e",
        "_cell_guid": "83b37363-5d7d-4ac0-ae1e-571b99350d09"
      },
      "cell_type": "markdown",
      "source": "This `DataFrame` has ~20,000 rows. The original had ~130,000. That means that around 15% of wines originate from Italy.\n\n<font color = 'red'>We also wanted to know which ones are better than average. Wines are reviewed on a 80-to-100 point scale, so this could mean wines that accrued at least 90 points.<font color = 'black'>\n\nWe can use the ampersand (`&`) to bring the two questions together:"
    },
    {
      "metadata": {
        "_uuid": "52c3e261e0b11939d6b432d04dffc9540fe13ed7",
        "_cell_guid": "724b0c7b-34bb-4588-8a7d-e95112df23e2",
        "trusted": true
      },
      "cell_type": "code",
      "source": "reviews.loc[(reviews.country == 'Italy') & (reviews.points >= 90)]",
      "execution_count": 37,
      "outputs": [
        {
          "output_type": "execute_result",
          "execution_count": 37,
          "data": {
            "text/plain": "       country                                        description  \\\n120      Italy  Slightly backward, particularly given the vint...   \n130      Italy  At the first it was quite muted and subdued, b...   \n...        ...                                                ...   \n129961   Italy  Intense aromas of wild cherry, baking spice, t...   \n129962   Italy  Blackberry, cassis, grilled herb and toasted a...   \n\n                      designation  points  price           province region_1  \\\n120           Bricco Rocche Prapó      92   70.0           Piedmont   Barolo   \n130         Bricco Rocche Brunate      91   70.0           Piedmont   Barolo   \n...                           ...     ...    ...                ...      ...   \n129961                        NaN      90   30.0  Sicily & Sardinia  Sicilia   \n129962  Sàgana Tenuta San Giacomo      90   40.0  Sicily & Sardinia  Sicilia   \n\n       region_2    taster_name taster_twitter_handle  \\\n120         NaN            NaN                   NaN   \n130         NaN            NaN                   NaN   \n...         ...            ...                   ...   \n129961      NaN  Kerin O’Keefe          @kerinokeefe   \n129962      NaN  Kerin O’Keefe          @kerinokeefe   \n\n                                                    title       variety  \\\n120            Ceretto 2003 Bricco Rocche Prapó  (Barolo)      Nebbiolo   \n130          Ceretto 2003 Bricco Rocche Brunate  (Barolo)      Nebbiolo   \n...                                                   ...           ...   \n129961                        COS 2013 Frappato (Sicilia)      Frappato   \n129962  Cusumano 2012 Sàgana Tenuta San Giacomo Nero d...  Nero d'Avola   \n\n          winery  \n120      Ceretto  \n130      Ceretto  \n...          ...  \n129961       COS  \n129962  Cusumano  \n\n[6648 rows x 13 columns]",
            "text/html": "<div>\n<style scoped>\n    .dataframe tbody tr th:only-of-type {\n        vertical-align: middle;\n    }\n\n    .dataframe tbody tr th {\n        vertical-align: top;\n    }\n\n    .dataframe thead th {\n        text-align: right;\n    }\n</style>\n<table border=\"1\" class=\"dataframe\">\n  <thead>\n    <tr style=\"text-align: right;\">\n      <th></th>\n      <th>country</th>\n      <th>description</th>\n      <th>designation</th>\n      <th>points</th>\n      <th>price</th>\n      <th>province</th>\n      <th>region_1</th>\n      <th>region_2</th>\n      <th>taster_name</th>\n      <th>taster_twitter_handle</th>\n      <th>title</th>\n      <th>variety</th>\n      <th>winery</th>\n    </tr>\n  </thead>\n  <tbody>\n    <tr>\n      <th>120</th>\n      <td>Italy</td>\n      <td>Slightly backward, particularly given the vint...</td>\n      <td>Bricco Rocche Prapó</td>\n      <td>92</td>\n      <td>70.0</td>\n      <td>Piedmont</td>\n      <td>Barolo</td>\n      <td>NaN</td>\n      <td>NaN</td>\n      <td>NaN</td>\n      <td>Ceretto 2003 Bricco Rocche Prapó  (Barolo)</td>\n      <td>Nebbiolo</td>\n      <td>Ceretto</td>\n    </tr>\n    <tr>\n      <th>130</th>\n      <td>Italy</td>\n      <td>At the first it was quite muted and subdued, b...</td>\n      <td>Bricco Rocche Brunate</td>\n      <td>91</td>\n      <td>70.0</td>\n      <td>Piedmont</td>\n      <td>Barolo</td>\n      <td>NaN</td>\n      <td>NaN</td>\n      <td>NaN</td>\n      <td>Ceretto 2003 Bricco Rocche Brunate  (Barolo)</td>\n      <td>Nebbiolo</td>\n      <td>Ceretto</td>\n    </tr>\n    <tr>\n      <th>...</th>\n      <td>...</td>\n      <td>...</td>\n      <td>...</td>\n      <td>...</td>\n      <td>...</td>\n      <td>...</td>\n      <td>...</td>\n      <td>...</td>\n      <td>...</td>\n      <td>...</td>\n      <td>...</td>\n      <td>...</td>\n      <td>...</td>\n    </tr>\n    <tr>\n      <th>129961</th>\n      <td>Italy</td>\n      <td>Intense aromas of wild cherry, baking spice, t...</td>\n      <td>NaN</td>\n      <td>90</td>\n      <td>30.0</td>\n      <td>Sicily &amp; Sardinia</td>\n      <td>Sicilia</td>\n      <td>NaN</td>\n      <td>Kerin O’Keefe</td>\n      <td>@kerinokeefe</td>\n      <td>COS 2013 Frappato (Sicilia)</td>\n      <td>Frappato</td>\n      <td>COS</td>\n    </tr>\n    <tr>\n      <th>129962</th>\n      <td>Italy</td>\n      <td>Blackberry, cassis, grilled herb and toasted a...</td>\n      <td>Sàgana Tenuta San Giacomo</td>\n      <td>90</td>\n      <td>40.0</td>\n      <td>Sicily &amp; Sardinia</td>\n      <td>Sicilia</td>\n      <td>NaN</td>\n      <td>Kerin O’Keefe</td>\n      <td>@kerinokeefe</td>\n      <td>Cusumano 2012 Sàgana Tenuta San Giacomo Nero d...</td>\n      <td>Nero d'Avola</td>\n      <td>Cusumano</td>\n    </tr>\n  </tbody>\n</table>\n<p>6648 rows × 13 columns</p>\n</div>"
          },
          "metadata": {}
        }
      ]
    },
    {
      "metadata": {
        "_uuid": "1d61a370ebe33f6e26aaf60d4f3e36107a33cf5f",
        "_cell_guid": "5961d455-6351-41b1-80c4-5bc6963447c7"
      },
      "cell_type": "markdown",
      "source": "Suppose we'll buy any wine that's made in Italy _or_ which is rated above average. <font color = 'red'>For this we use a pipe (`|`):"
    },
    {
      "metadata": {
        "_uuid": "67b9f1551c685dad605a80b61e56682236a30c58",
        "_cell_guid": "d917da84-3849-4025-80ff-7fef1b437896",
        "trusted": true
      },
      "cell_type": "code",
      "source": "reviews.loc[(reviews.country == 'Italy') | (reviews.points >= 90)]",
      "execution_count": 38,
      "outputs": [
        {
          "output_type": "execute_result",
          "execution_count": 38,
          "data": {
            "text/plain": "       country                                        description  \\\n0        Italy  Aromas include tropical fruit, broom, brimston...   \n6        Italy  Here's a bright, informal red that opens with ...   \n...        ...                                                ...   \n129969  France  A dry style of Pinot Gris, this is crisp with ...   \n129970  France  Big, rich and off-dry, this is powered by inte...   \n\n                          designation  points  price           province  \\\n0                        Vulkà Bianco      87    NaN  Sicily & Sardinia   \n6                             Belsito      87   16.0  Sicily & Sardinia   \n...                               ...     ...    ...                ...   \n129969                            NaN      90   32.0             Alsace   \n129970  Lieu-dit Harth Cuvée Caroline      90   21.0             Alsace   \n\n        region_1 region_2    taster_name taster_twitter_handle  \\\n0           Etna      NaN  Kerin O’Keefe          @kerinokeefe   \n6       Vittoria      NaN  Kerin O’Keefe          @kerinokeefe   \n...          ...      ...            ...                   ...   \n129969    Alsace      NaN     Roger Voss            @vossroger   \n129970    Alsace      NaN     Roger Voss            @vossroger   \n\n                                                    title         variety  \\\n0                       Nicosia 2013 Vulkà Bianco  (Etna)     White Blend   \n6        Terre di Giurfo 2013 Belsito Frappato (Vittoria)        Frappato   \n...                                                   ...             ...   \n129969      Domaine Marcel Deiss 2012 Pinot Gris (Alsace)      Pinot Gris   \n129970  Domaine Schoffit 2012 Lieu-dit Harth Cuvée Car...  Gewürztraminer   \n\n                      winery  \n0                    Nicosia  \n6            Terre di Giurfo  \n...                      ...  \n129969  Domaine Marcel Deiss  \n129970      Domaine Schoffit  \n\n[61937 rows x 13 columns]",
            "text/html": "<div>\n<style scoped>\n    .dataframe tbody tr th:only-of-type {\n        vertical-align: middle;\n    }\n\n    .dataframe tbody tr th {\n        vertical-align: top;\n    }\n\n    .dataframe thead th {\n        text-align: right;\n    }\n</style>\n<table border=\"1\" class=\"dataframe\">\n  <thead>\n    <tr style=\"text-align: right;\">\n      <th></th>\n      <th>country</th>\n      <th>description</th>\n      <th>designation</th>\n      <th>points</th>\n      <th>price</th>\n      <th>province</th>\n      <th>region_1</th>\n      <th>region_2</th>\n      <th>taster_name</th>\n      <th>taster_twitter_handle</th>\n      <th>title</th>\n      <th>variety</th>\n      <th>winery</th>\n    </tr>\n  </thead>\n  <tbody>\n    <tr>\n      <th>0</th>\n      <td>Italy</td>\n      <td>Aromas include tropical fruit, broom, brimston...</td>\n      <td>Vulkà Bianco</td>\n      <td>87</td>\n      <td>NaN</td>\n      <td>Sicily &amp; Sardinia</td>\n      <td>Etna</td>\n      <td>NaN</td>\n      <td>Kerin O’Keefe</td>\n      <td>@kerinokeefe</td>\n      <td>Nicosia 2013 Vulkà Bianco  (Etna)</td>\n      <td>White Blend</td>\n      <td>Nicosia</td>\n    </tr>\n    <tr>\n      <th>6</th>\n      <td>Italy</td>\n      <td>Here's a bright, informal red that opens with ...</td>\n      <td>Belsito</td>\n      <td>87</td>\n      <td>16.0</td>\n      <td>Sicily &amp; Sardinia</td>\n      <td>Vittoria</td>\n      <td>NaN</td>\n      <td>Kerin O’Keefe</td>\n      <td>@kerinokeefe</td>\n      <td>Terre di Giurfo 2013 Belsito Frappato (Vittoria)</td>\n      <td>Frappato</td>\n      <td>Terre di Giurfo</td>\n    </tr>\n    <tr>\n      <th>...</th>\n      <td>...</td>\n      <td>...</td>\n      <td>...</td>\n      <td>...</td>\n      <td>...</td>\n      <td>...</td>\n      <td>...</td>\n      <td>...</td>\n      <td>...</td>\n      <td>...</td>\n      <td>...</td>\n      <td>...</td>\n      <td>...</td>\n    </tr>\n    <tr>\n      <th>129969</th>\n      <td>France</td>\n      <td>A dry style of Pinot Gris, this is crisp with ...</td>\n      <td>NaN</td>\n      <td>90</td>\n      <td>32.0</td>\n      <td>Alsace</td>\n      <td>Alsace</td>\n      <td>NaN</td>\n      <td>Roger Voss</td>\n      <td>@vossroger</td>\n      <td>Domaine Marcel Deiss 2012 Pinot Gris (Alsace)</td>\n      <td>Pinot Gris</td>\n      <td>Domaine Marcel Deiss</td>\n    </tr>\n    <tr>\n      <th>129970</th>\n      <td>France</td>\n      <td>Big, rich and off-dry, this is powered by inte...</td>\n      <td>Lieu-dit Harth Cuvée Caroline</td>\n      <td>90</td>\n      <td>21.0</td>\n      <td>Alsace</td>\n      <td>Alsace</td>\n      <td>NaN</td>\n      <td>Roger Voss</td>\n      <td>@vossroger</td>\n      <td>Domaine Schoffit 2012 Lieu-dit Harth Cuvée Car...</td>\n      <td>Gewürztraminer</td>\n      <td>Domaine Schoffit</td>\n    </tr>\n  </tbody>\n</table>\n<p>61937 rows × 13 columns</p>\n</div>"
          },
          "metadata": {}
        }
      ]
    },
    {
      "metadata": {
        "_uuid": "c062f467f0daf051fddde8725258126ce1d753b2",
        "_cell_guid": "a0028aa5-8ce2-4de0-9ebd-2d3709cb5a85"
      },
      "cell_type": "markdown",
      "source": "`pandas` <font color = 'red'>comes with a few pre-built conditional selectors, two of which we will highlight here<font color = 'black'>. The first is `isin`. `isin` is lets you select data whose value \"is in\" a list of values.\n\nFor example, here's how we can use it to select wines only from Italy or France:"
    },
    {
      "metadata": {
        "_uuid": "b3a88c74ba5989215424e8bc52d560bf6b3da4d1",
        "_cell_guid": "56108a13-1ea3-44c8-a627-ef4367b3038f",
        "trusted": true
      },
      "cell_type": "code",
      "source": "reviews.loc[reviews.country.isin(['Italy', 'France'])]",
      "execution_count": 39,
      "outputs": [
        {
          "output_type": "execute_result",
          "execution_count": 39,
          "data": {
            "text/plain": "       country                                        description  \\\n0        Italy  Aromas include tropical fruit, broom, brimston...   \n6        Italy  Here's a bright, informal red that opens with ...   \n...        ...                                                ...   \n129969  France  A dry style of Pinot Gris, this is crisp with ...   \n129970  France  Big, rich and off-dry, this is powered by inte...   \n\n                          designation  points  price           province  \\\n0                        Vulkà Bianco      87    NaN  Sicily & Sardinia   \n6                             Belsito      87   16.0  Sicily & Sardinia   \n...                               ...     ...    ...                ...   \n129969                            NaN      90   32.0             Alsace   \n129970  Lieu-dit Harth Cuvée Caroline      90   21.0             Alsace   \n\n        region_1 region_2    taster_name taster_twitter_handle  \\\n0           Etna      NaN  Kerin O’Keefe          @kerinokeefe   \n6       Vittoria      NaN  Kerin O’Keefe          @kerinokeefe   \n...          ...      ...            ...                   ...   \n129969    Alsace      NaN     Roger Voss            @vossroger   \n129970    Alsace      NaN     Roger Voss            @vossroger   \n\n                                                    title         variety  \\\n0                       Nicosia 2013 Vulkà Bianco  (Etna)     White Blend   \n6        Terre di Giurfo 2013 Belsito Frappato (Vittoria)        Frappato   \n...                                                   ...             ...   \n129969      Domaine Marcel Deiss 2012 Pinot Gris (Alsace)      Pinot Gris   \n129970  Domaine Schoffit 2012 Lieu-dit Harth Cuvée Car...  Gewürztraminer   \n\n                      winery  \n0                    Nicosia  \n6            Terre di Giurfo  \n...                      ...  \n129969  Domaine Marcel Deiss  \n129970      Domaine Schoffit  \n\n[41633 rows x 13 columns]",
            "text/html": "<div>\n<style scoped>\n    .dataframe tbody tr th:only-of-type {\n        vertical-align: middle;\n    }\n\n    .dataframe tbody tr th {\n        vertical-align: top;\n    }\n\n    .dataframe thead th {\n        text-align: right;\n    }\n</style>\n<table border=\"1\" class=\"dataframe\">\n  <thead>\n    <tr style=\"text-align: right;\">\n      <th></th>\n      <th>country</th>\n      <th>description</th>\n      <th>designation</th>\n      <th>points</th>\n      <th>price</th>\n      <th>province</th>\n      <th>region_1</th>\n      <th>region_2</th>\n      <th>taster_name</th>\n      <th>taster_twitter_handle</th>\n      <th>title</th>\n      <th>variety</th>\n      <th>winery</th>\n    </tr>\n  </thead>\n  <tbody>\n    <tr>\n      <th>0</th>\n      <td>Italy</td>\n      <td>Aromas include tropical fruit, broom, brimston...</td>\n      <td>Vulkà Bianco</td>\n      <td>87</td>\n      <td>NaN</td>\n      <td>Sicily &amp; Sardinia</td>\n      <td>Etna</td>\n      <td>NaN</td>\n      <td>Kerin O’Keefe</td>\n      <td>@kerinokeefe</td>\n      <td>Nicosia 2013 Vulkà Bianco  (Etna)</td>\n      <td>White Blend</td>\n      <td>Nicosia</td>\n    </tr>\n    <tr>\n      <th>6</th>\n      <td>Italy</td>\n      <td>Here's a bright, informal red that opens with ...</td>\n      <td>Belsito</td>\n      <td>87</td>\n      <td>16.0</td>\n      <td>Sicily &amp; Sardinia</td>\n      <td>Vittoria</td>\n      <td>NaN</td>\n      <td>Kerin O’Keefe</td>\n      <td>@kerinokeefe</td>\n      <td>Terre di Giurfo 2013 Belsito Frappato (Vittoria)</td>\n      <td>Frappato</td>\n      <td>Terre di Giurfo</td>\n    </tr>\n    <tr>\n      <th>...</th>\n      <td>...</td>\n      <td>...</td>\n      <td>...</td>\n      <td>...</td>\n      <td>...</td>\n      <td>...</td>\n      <td>...</td>\n      <td>...</td>\n      <td>...</td>\n      <td>...</td>\n      <td>...</td>\n      <td>...</td>\n      <td>...</td>\n    </tr>\n    <tr>\n      <th>129969</th>\n      <td>France</td>\n      <td>A dry style of Pinot Gris, this is crisp with ...</td>\n      <td>NaN</td>\n      <td>90</td>\n      <td>32.0</td>\n      <td>Alsace</td>\n      <td>Alsace</td>\n      <td>NaN</td>\n      <td>Roger Voss</td>\n      <td>@vossroger</td>\n      <td>Domaine Marcel Deiss 2012 Pinot Gris (Alsace)</td>\n      <td>Pinot Gris</td>\n      <td>Domaine Marcel Deiss</td>\n    </tr>\n    <tr>\n      <th>129970</th>\n      <td>France</td>\n      <td>Big, rich and off-dry, this is powered by inte...</td>\n      <td>Lieu-dit Harth Cuvée Caroline</td>\n      <td>90</td>\n      <td>21.0</td>\n      <td>Alsace</td>\n      <td>Alsace</td>\n      <td>NaN</td>\n      <td>Roger Voss</td>\n      <td>@vossroger</td>\n      <td>Domaine Schoffit 2012 Lieu-dit Harth Cuvée Car...</td>\n      <td>Gewürztraminer</td>\n      <td>Domaine Schoffit</td>\n    </tr>\n  </tbody>\n</table>\n<p>41633 rows × 13 columns</p>\n</div>"
          },
          "metadata": {}
        }
      ]
    },
    {
      "metadata": {
        "_uuid": "4409db54862c7d4ce911b4c279fb0289d43dd5cb",
        "_cell_guid": "9d66e725-7c33-4c26-9c6e-ccf5280056b7"
      },
      "cell_type": "markdown",
      "source": "<font color = 'red'>The second is `isnull` (and its companion `notnull`). <font color = 'black'>These methods let you highlight values which are or are not empty (`NaN`). \n\n\nFor example, to filter out wines lacking a price tag in the dataset, here's what we would do:"
    },
    {
      "metadata": {
        "_uuid": "f4e43ebd81b8a81d53f657d37699e06e1b047bea",
        "_cell_guid": "7b36ff2b-5640-4d05-9979-0475e1174fef",
        "trusted": true
      },
      "cell_type": "code",
      "source": "reviews.loc[reviews.price.notnull()]",
      "execution_count": 40,
      "outputs": [
        {
          "output_type": "execute_result",
          "execution_count": 40,
          "data": {
            "text/plain": "         country                                        description  \\\n1       Portugal  This is ripe and fruity, a wine that is smooth...   \n2             US  Tart and snappy, the flavors of lime flesh and...   \n...          ...                                                ...   \n129969    France  A dry style of Pinot Gris, this is crisp with ...   \n129970    France  Big, rich and off-dry, this is powered by inte...   \n\n                          designation  points  price province  \\\n1                            Avidagos      87   15.0    Douro   \n2                                 NaN      87   14.0   Oregon   \n...                               ...     ...    ...      ...   \n129969                            NaN      90   32.0   Alsace   \n129970  Lieu-dit Harth Cuvée Caroline      90   21.0   Alsace   \n\n                 region_1           region_2   taster_name  \\\n1                     NaN                NaN    Roger Voss   \n2       Willamette Valley  Willamette Valley  Paul Gregutt   \n...                   ...                ...           ...   \n129969             Alsace                NaN    Roger Voss   \n129970             Alsace                NaN    Roger Voss   \n\n       taster_twitter_handle  \\\n1                 @vossroger   \n2                @paulgwine    \n...                      ...   \n129969            @vossroger   \n129970            @vossroger   \n\n                                                    title         variety  \\\n1           Quinta dos Avidagos 2011 Avidagos Red (Douro)  Portuguese Red   \n2           Rainstorm 2013 Pinot Gris (Willamette Valley)      Pinot Gris   \n...                                                   ...             ...   \n129969      Domaine Marcel Deiss 2012 Pinot Gris (Alsace)      Pinot Gris   \n129970  Domaine Schoffit 2012 Lieu-dit Harth Cuvée Car...  Gewürztraminer   \n\n                      winery  \n1        Quinta dos Avidagos  \n2                  Rainstorm  \n...                      ...  \n129969  Domaine Marcel Deiss  \n129970      Domaine Schoffit  \n\n[120975 rows x 13 columns]",
            "text/html": "<div>\n<style scoped>\n    .dataframe tbody tr th:only-of-type {\n        vertical-align: middle;\n    }\n\n    .dataframe tbody tr th {\n        vertical-align: top;\n    }\n\n    .dataframe thead th {\n        text-align: right;\n    }\n</style>\n<table border=\"1\" class=\"dataframe\">\n  <thead>\n    <tr style=\"text-align: right;\">\n      <th></th>\n      <th>country</th>\n      <th>description</th>\n      <th>designation</th>\n      <th>points</th>\n      <th>price</th>\n      <th>province</th>\n      <th>region_1</th>\n      <th>region_2</th>\n      <th>taster_name</th>\n      <th>taster_twitter_handle</th>\n      <th>title</th>\n      <th>variety</th>\n      <th>winery</th>\n    </tr>\n  </thead>\n  <tbody>\n    <tr>\n      <th>1</th>\n      <td>Portugal</td>\n      <td>This is ripe and fruity, a wine that is smooth...</td>\n      <td>Avidagos</td>\n      <td>87</td>\n      <td>15.0</td>\n      <td>Douro</td>\n      <td>NaN</td>\n      <td>NaN</td>\n      <td>Roger Voss</td>\n      <td>@vossroger</td>\n      <td>Quinta dos Avidagos 2011 Avidagos Red (Douro)</td>\n      <td>Portuguese Red</td>\n      <td>Quinta dos Avidagos</td>\n    </tr>\n    <tr>\n      <th>2</th>\n      <td>US</td>\n      <td>Tart and snappy, the flavors of lime flesh and...</td>\n      <td>NaN</td>\n      <td>87</td>\n      <td>14.0</td>\n      <td>Oregon</td>\n      <td>Willamette Valley</td>\n      <td>Willamette Valley</td>\n      <td>Paul Gregutt</td>\n      <td>@paulgwine</td>\n      <td>Rainstorm 2013 Pinot Gris (Willamette Valley)</td>\n      <td>Pinot Gris</td>\n      <td>Rainstorm</td>\n    </tr>\n    <tr>\n      <th>...</th>\n      <td>...</td>\n      <td>...</td>\n      <td>...</td>\n      <td>...</td>\n      <td>...</td>\n      <td>...</td>\n      <td>...</td>\n      <td>...</td>\n      <td>...</td>\n      <td>...</td>\n      <td>...</td>\n      <td>...</td>\n      <td>...</td>\n    </tr>\n    <tr>\n      <th>129969</th>\n      <td>France</td>\n      <td>A dry style of Pinot Gris, this is crisp with ...</td>\n      <td>NaN</td>\n      <td>90</td>\n      <td>32.0</td>\n      <td>Alsace</td>\n      <td>Alsace</td>\n      <td>NaN</td>\n      <td>Roger Voss</td>\n      <td>@vossroger</td>\n      <td>Domaine Marcel Deiss 2012 Pinot Gris (Alsace)</td>\n      <td>Pinot Gris</td>\n      <td>Domaine Marcel Deiss</td>\n    </tr>\n    <tr>\n      <th>129970</th>\n      <td>France</td>\n      <td>Big, rich and off-dry, this is powered by inte...</td>\n      <td>Lieu-dit Harth Cuvée Caroline</td>\n      <td>90</td>\n      <td>21.0</td>\n      <td>Alsace</td>\n      <td>Alsace</td>\n      <td>NaN</td>\n      <td>Roger Voss</td>\n      <td>@vossroger</td>\n      <td>Domaine Schoffit 2012 Lieu-dit Harth Cuvée Car...</td>\n      <td>Gewürztraminer</td>\n      <td>Domaine Schoffit</td>\n    </tr>\n  </tbody>\n</table>\n<p>120975 rows × 13 columns</p>\n</div>"
          },
          "metadata": {}
        }
      ]
    },
    {
      "metadata": {
        "_uuid": "1b5a14d85a9aa8206be2762bc068febc5c83fc2a",
        "_cell_guid": "e3d574d8-00ca-4c20-ae9a-49ea95d8f2f4"
      },
      "cell_type": "markdown",
      "source": "## Assigning data\n\nGoing the other way, assigning data to a `DataFrame` is easy. <font color = 'red'>You can assign either a constant value:"
    },
    {
      "metadata": {
        "_uuid": "d6f50e53a772b25be3a4fc7812191950b36cf407",
        "_cell_guid": "d348ec77-c71e-4cc4-a7e1-4e0822755629",
        "trusted": true
      },
      "cell_type": "code",
      "source": "reviews['critic'] = 'everyone'  # we are adding a new column here, 'critic'\nreviews['critic']",
      "execution_count": 42,
      "outputs": [
        {
          "output_type": "execute_result",
          "execution_count": 42,
          "data": {
            "text/plain": "0         everyone\n1         everyone\n            ...   \n129969    everyone\n129970    everyone\nName: critic, Length: 129971, dtype: object"
          },
          "metadata": {}
        }
      ]
    },
    {
      "metadata": {
        "_uuid": "4206bb8b7b4d97be3f1f49f143b27567e9ad7aa4",
        "_cell_guid": "94899076-ec98-4958-925b-0f869713e32f"
      },
      "cell_type": "markdown",
      "source": "<font color = 'red'>Or with an iterable of values:"
    },
    {
      "metadata": {
        "_uuid": "6e6a8fa181203f26a71f09991d4be9528386d48b",
        "_cell_guid": "20cadacf-5a57-41a8-b67c-c3ac0852fe9c",
        "trusted": true
      },
      "cell_type": "code",
      "source": "reviews['index_backwards'] = range(len(reviews), 0, -1)\nreviews['index_backwards']",
      "execution_count": 43,
      "outputs": [
        {
          "output_type": "execute_result",
          "execution_count": 43,
          "data": {
            "text/plain": "0         129971\n1         129970\n           ...  \n129969         2\n129970         1\nName: index_backwards, Length: 129971, dtype: int64"
          },
          "metadata": {}
        }
      ]
    },
    {
      "metadata": {
        "_uuid": "32318d339d359046cf5898cd35aa9f6b92f4e442",
        "_cell_guid": "b7ca53b9-c96f-4506-959a-edbd3b0986b6"
      },
      "cell_type": "markdown",
      "source": "We will see much more `DataFrame` assignment going on in later sections of this tutorial."
    }
  ],
  "metadata": {
    "kernelspec": {
      "display_name": "Python 3",
      "language": "python",
      "name": "python3"
    },
    "language_info": {
      "name": "python",
      "version": "3.6.4",
      "mimetype": "text/x-python",
      "codemirror_mode": {
        "name": "ipython",
        "version": 3
      },
      "pygments_lexer": "ipython3",
      "nbconvert_exporter": "python",
      "file_extension": ".py"
    }
  },
  "nbformat": 4,
  "nbformat_minor": 1
}