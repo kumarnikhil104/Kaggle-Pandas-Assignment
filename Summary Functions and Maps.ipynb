{
  "cells": [
    {
      "metadata": {
        "_uuid": "335f68e8fd02e3fd04ebbc3e571fd6fff5f30270",
        "_cell_guid": "df3d2db3-407f-45e8-aadd-3f90cf16e289"
      },
      "cell_type": "markdown",
      "source": "# Summary functions and maps reference\n\nThis is the reference component to the \"Summary functions and maps\" section of the Advanced Pandas tutorial. For the workbook, [click here](https://www.kaggle.com/residentmario/summary-functions-and-maps-workbook).\n\nThis section overlaps with the comprehensive [Essential Basic Functionality](https://pandas.pydata.org/pandas-docs/stable/basics.html) section of the official `pandas` documentation."
    },
    {
      "metadata": {
        "_uuid": "ef4748628a7b45a44da1eaca02b347e1437c2021",
        "_cell_guid": "7f862b51-1bc2-4a47-9ebf-f62f2fce6971",
        "trusted": true
      },
      "cell_type": "code",
      "source": "import pandas as pd\npd.set_option('max_rows', 5)\nimport numpy as np\nreviews = pd.read_csv(\"../input/winemag-data-130k-v2.csv\", index_col=0)\nreviews.head()",
      "execution_count": 1,
      "outputs": [
        {
          "output_type": "execute_result",
          "execution_count": 1,
          "data": {
            "text/plain": "    country                                        description  \\\n0     Italy  Aromas include tropical fruit, broom, brimston...   \n1  Portugal  This is ripe and fruity, a wine that is smooth...   \n2        US  Tart and snappy, the flavors of lime flesh and...   \n3        US  Pineapple rind, lemon pith and orange blossom ...   \n4        US  Much like the regular bottling from 2012, this...   \n\n                          designation  points  price           province  \\\n0                        Vulkà Bianco      87    NaN  Sicily & Sardinia   \n1                            Avidagos      87   15.0              Douro   \n2                                 NaN      87   14.0             Oregon   \n3                Reserve Late Harvest      87   13.0           Michigan   \n4  Vintner's Reserve Wild Child Block      87   65.0             Oregon   \n\n              region_1           region_2         taster_name  \\\n0                 Etna                NaN       Kerin O’Keefe   \n1                  NaN                NaN          Roger Voss   \n2    Willamette Valley  Willamette Valley        Paul Gregutt   \n3  Lake Michigan Shore                NaN  Alexander Peartree   \n4    Willamette Valley  Willamette Valley        Paul Gregutt   \n\n  taster_twitter_handle                                              title  \\\n0          @kerinokeefe                  Nicosia 2013 Vulkà Bianco  (Etna)   \n1            @vossroger      Quinta dos Avidagos 2011 Avidagos Red (Douro)   \n2           @paulgwine       Rainstorm 2013 Pinot Gris (Willamette Valley)   \n3                   NaN  St. Julian 2013 Reserve Late Harvest Riesling ...   \n4           @paulgwine   Sweet Cheeks 2012 Vintner's Reserve Wild Child...   \n\n          variety               winery  \n0     White Blend              Nicosia  \n1  Portuguese Red  Quinta dos Avidagos  \n2      Pinot Gris            Rainstorm  \n3        Riesling           St. Julian  \n4      Pinot Noir         Sweet Cheeks  ",
            "text/html": "<div>\n<style scoped>\n    .dataframe tbody tr th:only-of-type {\n        vertical-align: middle;\n    }\n\n    .dataframe tbody tr th {\n        vertical-align: top;\n    }\n\n    .dataframe thead th {\n        text-align: right;\n    }\n</style>\n<table border=\"1\" class=\"dataframe\">\n  <thead>\n    <tr style=\"text-align: right;\">\n      <th></th>\n      <th>country</th>\n      <th>description</th>\n      <th>designation</th>\n      <th>points</th>\n      <th>price</th>\n      <th>province</th>\n      <th>region_1</th>\n      <th>region_2</th>\n      <th>taster_name</th>\n      <th>taster_twitter_handle</th>\n      <th>title</th>\n      <th>variety</th>\n      <th>winery</th>\n    </tr>\n  </thead>\n  <tbody>\n    <tr>\n      <th>0</th>\n      <td>Italy</td>\n      <td>Aromas include tropical fruit, broom, brimston...</td>\n      <td>Vulkà Bianco</td>\n      <td>87</td>\n      <td>NaN</td>\n      <td>Sicily &amp; Sardinia</td>\n      <td>Etna</td>\n      <td>NaN</td>\n      <td>Kerin O’Keefe</td>\n      <td>@kerinokeefe</td>\n      <td>Nicosia 2013 Vulkà Bianco  (Etna)</td>\n      <td>White Blend</td>\n      <td>Nicosia</td>\n    </tr>\n    <tr>\n      <th>1</th>\n      <td>Portugal</td>\n      <td>This is ripe and fruity, a wine that is smooth...</td>\n      <td>Avidagos</td>\n      <td>87</td>\n      <td>15.0</td>\n      <td>Douro</td>\n      <td>NaN</td>\n      <td>NaN</td>\n      <td>Roger Voss</td>\n      <td>@vossroger</td>\n      <td>Quinta dos Avidagos 2011 Avidagos Red (Douro)</td>\n      <td>Portuguese Red</td>\n      <td>Quinta dos Avidagos</td>\n    </tr>\n    <tr>\n      <th>2</th>\n      <td>US</td>\n      <td>Tart and snappy, the flavors of lime flesh and...</td>\n      <td>NaN</td>\n      <td>87</td>\n      <td>14.0</td>\n      <td>Oregon</td>\n      <td>Willamette Valley</td>\n      <td>Willamette Valley</td>\n      <td>Paul Gregutt</td>\n      <td>@paulgwine</td>\n      <td>Rainstorm 2013 Pinot Gris (Willamette Valley)</td>\n      <td>Pinot Gris</td>\n      <td>Rainstorm</td>\n    </tr>\n    <tr>\n      <th>3</th>\n      <td>US</td>\n      <td>Pineapple rind, lemon pith and orange blossom ...</td>\n      <td>Reserve Late Harvest</td>\n      <td>87</td>\n      <td>13.0</td>\n      <td>Michigan</td>\n      <td>Lake Michigan Shore</td>\n      <td>NaN</td>\n      <td>Alexander Peartree</td>\n      <td>NaN</td>\n      <td>St. Julian 2013 Reserve Late Harvest Riesling ...</td>\n      <td>Riesling</td>\n      <td>St. Julian</td>\n    </tr>\n    <tr>\n      <th>4</th>\n      <td>US</td>\n      <td>Much like the regular bottling from 2012, this...</td>\n      <td>Vintner's Reserve Wild Child Block</td>\n      <td>87</td>\n      <td>65.0</td>\n      <td>Oregon</td>\n      <td>Willamette Valley</td>\n      <td>Willamette Valley</td>\n      <td>Paul Gregutt</td>\n      <td>@paulgwine</td>\n      <td>Sweet Cheeks 2012 Vintner's Reserve Wild Child...</td>\n      <td>Pinot Noir</td>\n      <td>Sweet Cheeks</td>\n    </tr>\n  </tbody>\n</table>\n</div>"
          },
          "metadata": {}
        }
      ]
    },
    {
      "metadata": {
        "_uuid": "4d5e5f12837074e242df62cc067d0a7c6d1040a9",
        "_cell_guid": "f09db539-eae7-41ec-b2df-c7c77e83f72c"
      },
      "cell_type": "markdown",
      "source": "## Summary functions\n\n`pandas` provides many simple \"summary functions\" (not an official name) which restructure the data in some useful way. For example, consider the `describe` method:"
    },
    {
      "metadata": {
        "_uuid": "557630594527245af68bc5fe21f87e248a8ff65e",
        "_cell_guid": "dea33110-1b89-4299-a316-fc955cf6cf54",
        "trusted": true
      },
      "cell_type": "code",
      "source": "reviews.points.describe()",
      "execution_count": 2,
      "outputs": [
        {
          "output_type": "execute_result",
          "execution_count": 2,
          "data": {
            "text/plain": "count    129971.000000\nmean         88.447138\n             ...      \n75%          91.000000\nmax         100.000000\nName: points, Length: 8, dtype: float64"
          },
          "metadata": {}
        }
      ]
    },
    {
      "metadata": {
        "_uuid": "a7ead565e2d85373cee5b0f78ff2ef8dbe3bf817",
        "_cell_guid": "951abe1d-ec52-4ea8-b033-0bd585faaedf"
      },
      "cell_type": "markdown",
      "source": "<font color ='red'>This method generates a high-level summary of the attributes of the given column<font color = 'black'>.**We can also do it on dataframe.describe()**  It is type-aware, meaning that its output changes based on the `dtype` of the input. The output above only makes sense for numerical data; for string data here's what we get: (Computer ain't good at understanding strings, convert it into categorical values for e.g Male- 0, Female- 1)"
    },
    {
      "metadata": {
        "_uuid": "a7901d22426f444faa42cc11c06cae02c66a83ba",
        "_cell_guid": "d1797ac3-5144-4b88-906a-9b0a44590fce",
        "trusted": true
      },
      "cell_type": "code",
      "source": "reviews.taster_name.describe()",
      "execution_count": 3,
      "outputs": [
        {
          "output_type": "execute_result",
          "execution_count": 3,
          "data": {
            "text/plain": "count         103727\nunique            19\ntop       Roger Voss\nfreq           25514\nName: taster_name, dtype: object"
          },
          "metadata": {}
        }
      ]
    },
    {
      "metadata": {
        "_uuid": "c23f704e8760c5d9f410fb6f632d700fad605b85",
        "_cell_guid": "05be57a3-3496-44f7-a895-f4723996ac88"
      },
      "cell_type": "markdown",
      "source": "If you want to get some particular simple summary statistic about a column in a `DataFrame` or a `Series`, there is usually a handful `pandas` function that makes it happen. For example, to see the mean of the points allotted (e.g. how well an averagely rated wine does), we can use the `mean` function:"
    },
    {
      "metadata": {
        "_uuid": "9f0d74db97f4c3d8a987f228247ce9704b977a46",
        "_cell_guid": "8862f171-1825-4c08-ac8e-44d1befbbf21",
        "trusted": true
      },
      "cell_type": "code",
      "source": "reviews.points.mean()",
      "execution_count": 4,
      "outputs": [
        {
          "output_type": "execute_result",
          "execution_count": 4,
          "data": {
            "text/plain": "88.44713820775404"
          },
          "metadata": {}
        }
      ]
    },
    {
      "metadata": {
        "_uuid": "7074029e0ccb378797ce5550271cc2b612c39d20",
        "_cell_guid": "5c63cf79-1d61-4713-8757-cde4b1733786"
      },
      "cell_type": "markdown",
      "source": "> <font color ='red'>To see a list of unique values we can use the `unique` function:"
    },
    {
      "metadata": {
        "_uuid": "f71122123fce9ea7251c2d145f6e0fe39cf914cf",
        "_cell_guid": "ae4ceb39-84f0-4234-882a-444034d260f7",
        "trusted": true
      },
      "cell_type": "code",
      "source": "reviews.taster_name.unique()",
      "execution_count": 5,
      "outputs": [
        {
          "output_type": "execute_result",
          "execution_count": 5,
          "data": {
            "text/plain": "array(['Kerin O’Keefe', 'Roger Voss', 'Paul Gregutt',\n       'Alexander Peartree', 'Michael Schachner', 'Anna Lee C. Iijima',\n       'Virginie Boone', 'Matt Kettmann', nan, 'Sean P. Sullivan',\n       'Jim Gordon', 'Joe Czerwinski', 'Anne Krebiehl\\xa0MW',\n       'Lauren Buzzeo', 'Mike DeSimone', 'Jeff Jenssen',\n       'Susan Kostrzewa', 'Carrie Dykes', 'Fiona Adams',\n       'Christina Pickard'], dtype=object)"
          },
          "metadata": {}
        }
      ]
    },
    {
      "metadata": {
        "_uuid": "5e8d9c70f2e06e1135621808dc641023d18da6cd",
        "_cell_guid": "e9f55d79-4a5d-406d-b31d-4bfc05f36b66"
      },
      "cell_type": "markdown",
      "source": "<font color ='red'>To see a list of unique values _and_ how often they occur in the dataset, we can use the `value_counts` method:"
    },
    {
      "metadata": {
        "_uuid": "1073da33bf4f571485c5b5a694a8890f8d193bd1",
        "_cell_guid": "0d773f72-a3de-4e39-a44a-d4aa7492ef9f",
        "trusted": true
      },
      "cell_type": "code",
      "source": "reviews.taster_name.value_counts()",
      "execution_count": 6,
      "outputs": [
        {
          "output_type": "execute_result",
          "execution_count": 6,
          "data": {
            "text/plain": "Roger Voss           25514\nMichael Schachner    15134\n                     ...  \nFiona Adams             27\nChristina Pickard        6\nName: taster_name, Length: 19, dtype: int64"
          },
          "metadata": {}
        }
      ]
    },
    {
      "metadata": {
        "collapsed": true,
        "_uuid": "b98ec7003f4a31345b7bde02945bc1324fa0fa94",
        "_cell_guid": "162ce66b-d9ed-41d0-a0bb-71363365c81d"
      },
      "cell_type": "markdown",
      "source": "## Maps\n\nA \"map\" is a term, borrowed from mathematics, for a function that takes one set of values and \"maps\" them to another set of values. In data science we often have a need for creating new representations from existing data, or for transforming data from the format it is in now to the format that we want it to be in later. Maps are what handle this work, making them extremely important for getting your work done!\n\n<font color ='red'>There are two mapping functions that you will use often<font color ='black'>. The `Series` `map` is the first, and slightly simpler one. For example, suppose that we wanted to<font color ='red'> remean<font color ='black'> the scores the wines recieved to 0. We can do this as follows:"
    },
    {
      "metadata": {
        "_uuid": "1ca0fc33b7e92c2a3662cec08995968f1c203c04",
        "_cell_guid": "385b5cc4-82f0-41cc-bc5e-7e4f70f2e3f9",
        "trusted": true
      },
      "cell_type": "code",
      "source": "review_points_mean = reviews.points.mean()\nreviews.points.map(lambda p: p - review_points_mean)",
      "execution_count": 7,
      "outputs": [
        {
          "output_type": "execute_result",
          "execution_count": 7,
          "data": {
            "text/plain": "0        -1.447138\n1        -1.447138\n            ...   \n129969    1.552862\n129970    1.552862\nName: points, Length: 129971, dtype: float64"
          },
          "metadata": {}
        }
      ]
    },
    {
      "metadata": {
        "_uuid": "5e4cde737eb508c1ffeb4d32e9989e2bbcfb0096",
        "_cell_guid": "c9e7b058-26da-4432-beeb-8b5e217e16d4"
      },
      "cell_type": "markdown",
      "source": "`map` <font color ='red'>takes every value in the column it is being called on and converts it some new value using a function you provide it.\n\n`map` takes a `Series` as input. The `DataFrame` `apply` function can be used to do the same thing  **_across_ columns, on the level of the entire dataset**. Thus `apply` takes a `DataFrame` as input."
    },
    {
      "metadata": {
        "_uuid": "77cfe1671cbbae3135bd1749f21eccc2b5d24098",
        "_cell_guid": "032b71bc-872a-466d-bcb2-4b922da92a4a",
        "trusted": true
      },
      "cell_type": "code",
      "source": "def remean_points(srs):\n    srs.points = srs.points - review_points_mean\n    return srs\n\nreviews.apply(remean_points, axis='columns')",
      "execution_count": 8,
      "outputs": [
        {
          "output_type": "execute_result",
          "execution_count": 8,
          "data": {
            "text/plain": "         country                                        description  \\\n0          Italy  Aromas include tropical fruit, broom, brimston...   \n1       Portugal  This is ripe and fruity, a wine that is smooth...   \n...          ...                                                ...   \n129969    France  A dry style of Pinot Gris, this is crisp with ...   \n129970    France  Big, rich and off-dry, this is powered by inte...   \n\n                          designation    points  price           province  \\\n0                        Vulkà Bianco -1.447138    NaN  Sicily & Sardinia   \n1                            Avidagos -1.447138   15.0              Douro   \n...                               ...       ...    ...                ...   \n129969                            NaN  1.552862   32.0             Alsace   \n129970  Lieu-dit Harth Cuvée Caroline  1.552862   21.0             Alsace   \n\n       region_1 region_2    taster_name taster_twitter_handle  \\\n0          Etna      NaN  Kerin O’Keefe          @kerinokeefe   \n1           NaN      NaN     Roger Voss            @vossroger   \n...         ...      ...            ...                   ...   \n129969   Alsace      NaN     Roger Voss            @vossroger   \n129970   Alsace      NaN     Roger Voss            @vossroger   \n\n                                                    title         variety  \\\n0                       Nicosia 2013 Vulkà Bianco  (Etna)     White Blend   \n1           Quinta dos Avidagos 2011 Avidagos Red (Douro)  Portuguese Red   \n...                                                   ...             ...   \n129969      Domaine Marcel Deiss 2012 Pinot Gris (Alsace)      Pinot Gris   \n129970  Domaine Schoffit 2012 Lieu-dit Harth Cuvée Car...  Gewürztraminer   \n\n                      winery  \n0                    Nicosia  \n1        Quinta dos Avidagos  \n...                      ...  \n129969  Domaine Marcel Deiss  \n129970      Domaine Schoffit  \n\n[129971 rows x 13 columns]",
            "text/html": "<div>\n<style scoped>\n    .dataframe tbody tr th:only-of-type {\n        vertical-align: middle;\n    }\n\n    .dataframe tbody tr th {\n        vertical-align: top;\n    }\n\n    .dataframe thead th {\n        text-align: right;\n    }\n</style>\n<table border=\"1\" class=\"dataframe\">\n  <thead>\n    <tr style=\"text-align: right;\">\n      <th></th>\n      <th>country</th>\n      <th>description</th>\n      <th>designation</th>\n      <th>points</th>\n      <th>price</th>\n      <th>province</th>\n      <th>region_1</th>\n      <th>region_2</th>\n      <th>taster_name</th>\n      <th>taster_twitter_handle</th>\n      <th>title</th>\n      <th>variety</th>\n      <th>winery</th>\n    </tr>\n  </thead>\n  <tbody>\n    <tr>\n      <th>0</th>\n      <td>Italy</td>\n      <td>Aromas include tropical fruit, broom, brimston...</td>\n      <td>Vulkà Bianco</td>\n      <td>-1.447138</td>\n      <td>NaN</td>\n      <td>Sicily &amp; Sardinia</td>\n      <td>Etna</td>\n      <td>NaN</td>\n      <td>Kerin O’Keefe</td>\n      <td>@kerinokeefe</td>\n      <td>Nicosia 2013 Vulkà Bianco  (Etna)</td>\n      <td>White Blend</td>\n      <td>Nicosia</td>\n    </tr>\n    <tr>\n      <th>1</th>\n      <td>Portugal</td>\n      <td>This is ripe and fruity, a wine that is smooth...</td>\n      <td>Avidagos</td>\n      <td>-1.447138</td>\n      <td>15.0</td>\n      <td>Douro</td>\n      <td>NaN</td>\n      <td>NaN</td>\n      <td>Roger Voss</td>\n      <td>@vossroger</td>\n      <td>Quinta dos Avidagos 2011 Avidagos Red (Douro)</td>\n      <td>Portuguese Red</td>\n      <td>Quinta dos Avidagos</td>\n    </tr>\n    <tr>\n      <th>...</th>\n      <td>...</td>\n      <td>...</td>\n      <td>...</td>\n      <td>...</td>\n      <td>...</td>\n      <td>...</td>\n      <td>...</td>\n      <td>...</td>\n      <td>...</td>\n      <td>...</td>\n      <td>...</td>\n      <td>...</td>\n      <td>...</td>\n    </tr>\n    <tr>\n      <th>129969</th>\n      <td>France</td>\n      <td>A dry style of Pinot Gris, this is crisp with ...</td>\n      <td>NaN</td>\n      <td>1.552862</td>\n      <td>32.0</td>\n      <td>Alsace</td>\n      <td>Alsace</td>\n      <td>NaN</td>\n      <td>Roger Voss</td>\n      <td>@vossroger</td>\n      <td>Domaine Marcel Deiss 2012 Pinot Gris (Alsace)</td>\n      <td>Pinot Gris</td>\n      <td>Domaine Marcel Deiss</td>\n    </tr>\n    <tr>\n      <th>129970</th>\n      <td>France</td>\n      <td>Big, rich and off-dry, this is powered by inte...</td>\n      <td>Lieu-dit Harth Cuvée Caroline</td>\n      <td>1.552862</td>\n      <td>21.0</td>\n      <td>Alsace</td>\n      <td>Alsace</td>\n      <td>NaN</td>\n      <td>Roger Voss</td>\n      <td>@vossroger</td>\n      <td>Domaine Schoffit 2012 Lieu-dit Harth Cuvée Car...</td>\n      <td>Gewürztraminer</td>\n      <td>Domaine Schoffit</td>\n    </tr>\n  </tbody>\n</table>\n<p>129971 rows × 13 columns</p>\n</div>"
          },
          "metadata": {}
        }
      ]
    },
    {
      "metadata": {
        "_uuid": "32a778f792201a28b2755f5490d83749602017a5",
        "_cell_guid": "88b518f4-dd28-40a7-91bb-94551f6e07f8"
      },
      "cell_type": "markdown",
      "source": "`pandas` provides many common mapping operations as built-ins. For example,<font color ='red'> here's a faster way of remeaning our points column:"
    },
    {
      "metadata": {
        "_uuid": "1458ed2ae40033b86c49494479df2fa2033b2ca9",
        "_cell_guid": "67e03af4-8171-480e-9933-b6665f08593e",
        "trusted": true
      },
      "cell_type": "code",
      "source": "review_points_mean = reviews.points.mean()\nreviews.points - review_points_mean",
      "execution_count": 9,
      "outputs": [
        {
          "output_type": "execute_result",
          "execution_count": 9,
          "data": {
            "text/plain": "0        -1.447138\n1        -1.447138\n            ...   \n129969    1.552862\n129970    1.552862\nName: points, Length: 129971, dtype: float64"
          },
          "metadata": {}
        }
      ]
    },
    {
      "metadata": {
        "_uuid": "383315326dfc3e56829273875faabd6dee6fcc45",
        "_cell_guid": "7d17129f-33f3-4827-99b9-c47a8e698834"
      },
      "cell_type": "markdown",
      "source": "<font color ='red'>\nIn this code we are performing an operation between a lot of values on the left-hand side (everything in the `Series`) and a single value on the right-hand side (the mean value). `pandas` looks at this expression and figures out that we must mean to subtract that mean value from every value in the dataset.\n\n\n`pandas` will also understand what to do if we perform these operations between `Series` of equal length. <font color ='black'>For example, an easy way of combining country and region information in the dataset would be to do the following:"
    },
    {
      "metadata": {
        "_uuid": "2a042c0140f4321021946ea50b81e15284df1458",
        "_cell_guid": "ab97600c-d759-4d4d-904b-443315bc7a04",
        "trusted": true
      },
      "cell_type": "code",
      "source": "reviews.country + \" - \" + reviews.region_1",
      "execution_count": 10,
      "outputs": [
        {
          "output_type": "execute_result",
          "execution_count": 10,
          "data": {
            "text/plain": "0            Italy - Etna\n1                     NaN\n               ...       \n129969    France - Alsace\n129970    France - Alsace\nLength: 129971, dtype: object"
          },
          "metadata": {}
        }
      ]
    },
    {
      "metadata": {
        "_uuid": "ba862fbfc261bc9cb1d73e029741c351ff040d3c",
        "_cell_guid": "87d226d5-28fb-4e64-b7bf-510434dbcdfd"
      },
      "cell_type": "markdown",
      "source": "<font color ='red'>These operators are faster than the `map` or `apply` because they uses speed ups built into `pandas`. <font color ='black'>All of the standard Python operators (`>`, `<`, `==`, and so on) work in this manner.\n\n<font color ='red'>However, they are not as flexible as `map` or `apply`, which can do more advanced things, like applying conditional logic, which cannot be done with addition and subtraction alone."
    },
    {
      "metadata": {
        "trusted": true,
        "collapsed": true,
        "_uuid": "0e93657081d6742503cfa7deef90ddaa67fb02b4"
      },
      "cell_type": "code",
      "source": "",
      "execution_count": null,
      "outputs": []
    }
  ],
  "metadata": {
    "language_info": {
      "name": "python",
      "version": "3.6.4",
      "mimetype": "text/x-python",
      "codemirror_mode": {
        "name": "ipython",
        "version": 3
      },
      "pygments_lexer": "ipython3",
      "nbconvert_exporter": "python",
      "file_extension": ".py"
    },
    "kernelspec": {
      "display_name": "Python 3",
      "language": "python",
      "name": "python3"
    }
  },
  "nbformat": 4,
  "nbformat_minor": 1
}